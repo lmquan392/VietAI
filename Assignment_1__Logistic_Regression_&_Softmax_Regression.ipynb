{
  "nbformat": 4,
  "nbformat_minor": 0,
  "metadata": {
    "colab": {
      "name": "Assignment_1__Logistic_Regression_&_Softmax_Regression.ipynb",
      "version": "0.3.2",
      "provenance": [],
      "collapsed_sections": [
        "Rul5BLAlOMOC",
        "bzRsJ5bWoGt9",
        "MSU-sZg3oM7N",
        "LRCYuQCfpl1T",
        "GwSNZlg2qFCv",
        "5bgGyuw7rJWg",
        "hPll6bewuoqH",
        "BODXyv9Hu8gm",
        "QhgYv_vEyNI2",
        "fobSVpxdzJCK",
        "akV674wBzsi6",
        "PpjrfpjT0W85",
        "Sh9WycsLLocE",
        "GpHPICzyL7eW",
        "8KLXKJ_IM301",
        "ZmqEjanxNUt_",
        "wrP0xiO8NvzD",
        "jz8g3el2Ork0",
        "4e3JORB8PEfL",
        "Pqz8CAHLQdYY",
        "FZmlnIx6QlPu",
        "ukKgfwZtRH8y",
        "enKFoBSRRNQw",
        "NnNefuNHSyvw",
        "WkG26LWSSdDg",
        "xOa0GhPRTTFd",
        "69rProsfTYWS",
        "Yy_5nMf7mOTW",
        "2Oz_NZPmmp4V",
        "8wm4-xOlnVMZ",
        "SSvZIuG-oUwn",
        "x-NMfsp0o0Ja",
        "gHzTgKgeqLMM",
        "VpXPqYoQzOod"
      ],
      "toc_visible": true,
      "include_colab_link": true
    },
    "kernelspec": {
      "name": "python3",
      "display_name": "Python 3"
    },
    "accelerator": "GPU"
  },
  "cells": [
    {
      "cell_type": "markdown",
      "metadata": {
        "id": "view-in-github",
        "colab_type": "text"
      },
      "source": [
        "<a href=\"https://colab.research.google.com/github/lmquan392/VietAI/blob/master/Assignment_1__Logistic_Regression_%26_Softmax_Regression.ipynb\" target=\"_parent\"><img src=\"https://colab.research.google.com/assets/colab-badge.svg\" alt=\"Open In Colab\"/></a>"
      ]
    },
    {
      "metadata": {
        "id": "3LGpbq4tSiOw",
        "colab_type": "text"
      },
      "cell_type": "markdown",
      "source": [
        "# Bài tập về nhà 1\n",
        "# Logistic Regression & Softmax Regression"
      ]
    },
    {
      "metadata": {
        "id": "1e8vwb3zTACs",
        "colab_type": "text"
      },
      "cell_type": "markdown",
      "source": [
        "## Tóm tắt nội dung\n",
        "Trong bài tập này, các bạn sẽ sử dụng kiến thức đã học về logistic regression và softmax regression để giải quyết bài toán phân lớp."
      ]
    },
    {
      "metadata": {
        "id": "TbebJwTgTC9a",
        "colab_type": "text"
      },
      "cell_type": "markdown",
      "source": [
        "## Giới thiệu"
      ]
    },
    {
      "metadata": {
        "id": "kESB1ROATIF7",
        "colab_type": "text"
      },
      "cell_type": "markdown",
      "source": [
        "Để có thể hoàn tất bài tập này, các bạn cần nắm rõ những kiến thức sau: \n",
        "- Logistic regression là gì, nguyên tắc hoạt động ra sao.\n",
        "- Softmax regression là gì và nguyên tắc hoạt động.\n",
        "- Cách lấy đạo hàm cho các tham số trong hai mô hình trên.\n",
        "- Giải thuật gradient descent.\n",
        "\n",
        "Bạn có thể tham khảo lại bài giảng của lớp để nắm vững các nội dung này. Ngoài ra, các bạn có thể đặt câu hỏi cho đội ngũ giảng dạy nếu có thắc mắc.\n",
        "\n",
        "Bài tập này sẽ gồm có hai bài chính:\n",
        "- Bài 1: phân loại hai lớp dùng **logistic regression**.\n",
        "- Bài 2: phân loại 10 lớp dùng **softmax regression**.\n",
        "\n",
        "Yêu cầu dành cho các bạn trong là giải quyết hai bài trên bằng **cả numpy và TensorFlow**.\n",
        "\n",
        "*Lưu ý: để tiện cho việc phân biệt giữa lớp python và lớp trong bài toán phân loại, người viết qui ước rằng khi viết **class** nghĩa là đang nói về python class, khi viết lớp nghĩa là đang ám chỉ **lớp** của dữ liệu cần phân loại*"
      ]
    },
    {
      "metadata": {
        "id": "eLgPOx1DpSwb",
        "colab_type": "text"
      },
      "cell_type": "markdown",
      "source": [
        "## Hướng dẫn làm và nộp bài\n",
        "Ở mỗi bài tập, các bạn sẽ được yêu cầu điền phần còn thiếu vào trong hàm, các cell để thực hiện phần bài làm sẽ có dòng đầu tiên như sau:\n",
        "```python\n",
        "# GRADED FUNCTION: <tên hàm>\n",
        "...\n",
        "```\n",
        "Trong cell đó, các bạn sẽ code phần đáp án của mình giữa 2 phần:\n",
        "```python\n",
        "### START CODE HERE ###\n",
        "<phần bài làm>\n",
        "### END CODE HERE ###\n",
        "```\n",
        "\n",
        "Sau khi thực hiện xong các bạn cần để chung file notebook và file `submit.py` vào cùng một thư mục trước khi nộp"
      ]
    },
    {
      "metadata": {
        "id": "pJ1iE641TaNY",
        "colab_type": "text"
      },
      "cell_type": "markdown",
      "source": [
        "## Tải dữ liệu và các hàm cần thiết"
      ]
    },
    {
      "metadata": {
        "id": "Gq7TH8EETxtM",
        "colab_type": "text"
      },
      "cell_type": "markdown",
      "source": [
        "Các bạn chạy cell bên dưới để tải bộ dữ liệu cũng như các hàm dùng để test cách cài đặt của các bạn:"
      ]
    },
    {
      "metadata": {
        "id": "QxnfQZEGTw2k",
        "colab_type": "code",
        "outputId": "24844542-54f9-4eef-c880-c46c39f42475",
        "colab": {
          "base_uri": "https://localhost:8080/",
          "height": 201
        }
      },
      "cell_type": "code",
      "source": [
        "!wget https://storage.googleapis.com/vietai/assignment1-data.zip -O data.zip"
      ],
      "execution_count": 1,
      "outputs": [
        {
          "output_type": "stream",
          "text": [
            "--2019-05-01 03:16:26--  https://storage.googleapis.com/vietai/assignment1-data.zip\n",
            "Resolving storage.googleapis.com (storage.googleapis.com)... 172.217.212.128, 2607:f8b0:4001:c03::80\n",
            "Connecting to storage.googleapis.com (storage.googleapis.com)|172.217.212.128|:443... connected.\n",
            "HTTP request sent, awaiting response... 200 OK\n",
            "Length: 58185711 (55M) [application/zip]\n",
            "Saving to: ‘data.zip’\n",
            "\n",
            "data.zip            100%[===================>]  55.49M  26.6MB/s    in 2.1s    \n",
            "\n",
            "2019-05-01 03:16:33 (26.6 MB/s) - ‘data.zip’ saved [58185711/58185711]\n",
            "\n"
          ],
          "name": "stdout"
        }
      ]
    },
    {
      "metadata": {
        "id": "ETwlnPvIUQEo",
        "colab_type": "code",
        "outputId": "93866774-119c-4b63-a3d2-69b40cdcd9fd",
        "colab": {
          "base_uri": "https://localhost:8080/",
          "height": 33
        }
      },
      "cell_type": "code",
      "source": [
        "!unzip data.zip | awk 'BEGIN { ORS = \" \" } { print \".\" }'"
      ],
      "execution_count": 2,
      "outputs": [
        {
          "output_type": "stream",
          "text": [
            ". . . . . . . . . . . . . . . . . . . . . . . . "
          ],
          "name": "stdout"
        }
      ]
    },
    {
      "metadata": {
        "id": "caPRYRLnVwu8",
        "colab_type": "text"
      },
      "cell_type": "markdown",
      "source": [
        "## Các hàm bổ trợ dùng để đọc dữ liệu\n",
        "\n",
        "Nhóm TA sẽ giúp bạn định nghĩa các hàm bổ trợ trong việc đọc dữ liệu, các bạn không cần chỉnh sửa các hàm này:"
      ]
    },
    {
      "metadata": {
        "id": "1gHJ1OZONpud",
        "colab_type": "code",
        "colab": {}
      },
      "cell_type": "code",
      "source": [
        "# GRADED FUNCTION\n",
        "import pickle\n",
        "import gzip\n",
        "import glob\n",
        "import numpy as np\n",
        "import tensorflow as tf\n",
        "import sys\n",
        "import inspect\n",
        "from tensorflow.contrib.eager.python import tfe\n",
        "tf.enable_eager_execution()"
      ],
      "execution_count": 0,
      "outputs": []
    },
    {
      "metadata": {
        "id": "1JV27SB0l0fD",
        "colab_type": "code",
        "outputId": "b19ed75f-88a5-459e-da2b-d7b180eb4da8",
        "colab": {
          "base_uri": "https://localhost:8080/",
          "height": 33
        }
      },
      "cell_type": "code",
      "source": [
        "%pylab inline\n",
        "import matplotlib.pyplot as plt\n",
        "import matplotlib.image as mpimg"
      ],
      "execution_count": 4,
      "outputs": [
        {
          "output_type": "stream",
          "text": [
            "Populating the interactive namespace from numpy and matplotlib\n"
          ],
          "name": "stdout"
        }
      ]
    },
    {
      "metadata": {
        "id": "LGG6cXOPVPB2",
        "colab_type": "code",
        "colab": {}
      },
      "cell_type": "code",
      "source": [
        "\"\"\"\n",
        "These functions helps you read data from data files\n",
        "Author: Kien Huynh\n",
        "\"\"\"\n",
        "\n",
        "\n",
        "def load_npy(file_name):\n",
        "    \"\"\"load_npy\n",
        "    Load numpy data file. This is needed as python 2.7 pickle uses ascii as default encoding method but python 3.x uses utf-8.abs\n",
        "\n",
        "    :param file_name: npy file path\n",
        "    \n",
        "    :return obj: loaded numpy object\n",
        "    \"\"\"\n",
        "    \n",
        "    if (sys.version_info[0] >= 3):\n",
        "        obj = np.load(file_name, encoding='latin1')\n",
        "    elif (sys.version_info[0] >=2):\n",
        "        obj = np.load(file_name)\n",
        "    \n",
        "    return obj\n",
        "\n",
        "\n",
        "def load_list(file_name):\n",
        "    \"\"\"load_list\n",
        "    Load a list object to file_name.\n",
        "\n",
        "    :param file_name: string, file name.\n",
        "    \"\"\"\n",
        "    end_of_file = False\n",
        "    list_obj = [] \n",
        "    f = open(file_name, 'rb')\n",
        "    python_version = sys.version_info[0]\n",
        "    while (not end_of_file):\n",
        "        try:\n",
        "            if (python_version >= 3):\n",
        "                list_obj.append(pickle.load(f, encoding='latin1'))\n",
        "            elif (python_version >=2):\n",
        "                list_obj.append(pickle.load(f))\n",
        "        except EOFError:\n",
        "            end_of_file = True\n",
        "            print(\"EOF Reached\")\n",
        "\n",
        "    f.close()\n",
        "    return list_obj \n",
        "\n",
        "\n",
        "def save_list(list_obj, file_name):\n",
        "    \"\"\"save_list\n",
        "    Save a list object to file_name\n",
        "    \n",
        "    :param list_obj: List of objects to be saved.\n",
        "    :param file_name: file name.\n",
        "    \"\"\"\n",
        "\n",
        "    f = open(file_name, 'wb')\n",
        "    for obj in list_obj:\n",
        "        pickle.dump(obj, f, pickle.HIGHEST_PROTOCOL)\n",
        "    f.close() \n",
        "\n",
        "\n",
        "def get_vehicle_data():\n",
        "    \"\"\"\n",
        "    Load vehicle data and return it as a list: [train_x, train_y, test_x, test_y]\n",
        "    \"\"\"\n",
        "    print('Reading vehicle data...')\n",
        "    train_x, train_y, test_x, test_y = load_list('./data/vehicles.dat')\n",
        "    train_x = np.transpose(train_x, (2,0,1))\n",
        "    test_x = np.transpose(test_x, (2,0,1)) \n",
        "\n",
        "    print('Done reading')\n",
        "    return train_x, train_y, test_x, test_y\n",
        "\n",
        "\n",
        "def read_mnist_gz(data_path, offset):\n",
        "    with gzip.open(data_path, 'rb') as f:\n",
        "        dataset = np.frombuffer(f.read(), dtype=np.uint8, offset=offset)\n",
        "\n",
        "    return dataset\n",
        "\n",
        "\n",
        "def get_mnist_data(sampling_step=20):\n",
        "    print('Reading fashion MNIST data...')\n",
        "    train_x = read_mnist_gz('./data/fashion-mnist/train-images-idx3-ubyte.gz', 16)\n",
        "    train_y = read_mnist_gz('./data/fashion-mnist/train-labels-idx1-ubyte.gz', 8)\n",
        "    test_x = read_mnist_gz('./data/fashion-mnist/t10k-images-idx3-ubyte.gz', 16)\n",
        "    test_y = read_mnist_gz('./data/fashion-mnist/t10k-labels-idx1-ubyte.gz', 8)\n",
        "    num_train = len(train_y)\n",
        "    num_test = len(test_y)\n",
        "\n",
        "    train_x = train_x.reshape((num_train, 28*28))\n",
        "    test_x = test_x.reshape((num_test, 28*28))\n",
        "\n",
        "    val_x = train_x[50000:,:]\n",
        "    val_y = train_y[50000:]\n",
        "    train_x = train_x[:50000,:]\n",
        "    train_y = train_y[:50000]\n",
        "\n",
        "    train_x = train_x[0::sampling_step,:]\n",
        "    train_y = train_y[0::sampling_step]\n",
        "    val_x = val_x[0::sampling_step,:]\n",
        "    val_y = val_y[0::sampling_step]\n",
        "    test_x = test_x[0::sampling_step,:]\n",
        "    test_y = test_y[0::sampling_step]\n",
        "    return train_x.astype(np.float32), train_y, val_x.astype(np.float32), val_y, test_x.astype(np.float32), test_y"
      ],
      "execution_count": 0,
      "outputs": []
    },
    {
      "metadata": {
        "id": "7yzZpItjWqe4",
        "colab_type": "text"
      },
      "cell_type": "markdown",
      "source": [
        "# Bài 1: Phân loại hai lớp dùng logistic regression"
      ]
    },
    {
      "metadata": {
        "id": "ecv42PtbW2YX",
        "colab_type": "text"
      },
      "cell_type": "markdown",
      "source": [
        "## Dữ liệu Vehicles"
      ]
    },
    {
      "metadata": {
        "id": "3cPITStuW6wW",
        "colab_type": "text"
      },
      "cell_type": "markdown",
      "source": [
        "Tập dữ liệu Vehicles là tập gồm có 2 lớp, được gán nhãn lớp 0 và 1. Ta có thể đọc tập dữ liệu này bằng hàm `get_vehicle_data()`:"
      ]
    },
    {
      "metadata": {
        "id": "qwTC-jzcWiFS",
        "colab_type": "code",
        "outputId": "60f3b649-e933-4105-969f-a193f8fa1e21",
        "colab": {
          "base_uri": "https://localhost:8080/",
          "height": 67
        }
      },
      "cell_type": "code",
      "source": [
        "train_x, train_y, test_x, test_y = get_vehicle_data()"
      ],
      "execution_count": 6,
      "outputs": [
        {
          "output_type": "stream",
          "text": [
            "Reading vehicle data...\n",
            "EOF Reached\n",
            "Done reading\n"
          ],
          "name": "stdout"
        }
      ]
    },
    {
      "metadata": {
        "id": "oJOUX3RsXH6k",
        "colab_type": "text"
      },
      "cell_type": "markdown",
      "source": [
        "Ở đây, `train_x` là một numpy tensor có kích thước `2400 × 64 × 64` (ý nghĩa: tập dữ liệu huấn luyện `train_x` có 2400 mẫu, mỗi mẫu là 1 ảnh có chiều cao (height) và rộng (width) bằng 64)"
      ]
    },
    {
      "metadata": {
        "id": "ygeWwMeLXCVG",
        "colab_type": "code",
        "outputId": "304fa13a-8c86-41d3-96b3-b85d5370d2ca",
        "colab": {
          "base_uri": "https://localhost:8080/",
          "height": 33
        }
      },
      "cell_type": "code",
      "source": [
        "train_x.shape"
      ],
      "execution_count": 7,
      "outputs": [
        {
          "output_type": "execute_result",
          "data": {
            "text/plain": [
              "(2400, 64, 64)"
            ]
          },
          "metadata": {
            "tags": []
          },
          "execution_count": 7
        }
      ]
    },
    {
      "metadata": {
        "id": "sjePyisfXPES",
        "colab_type": "text"
      },
      "cell_type": "markdown",
      "source": [
        "`train_y` là ma trận chứa nhãn ứng với mẫu dữ liệu trong `train_x`"
      ]
    },
    {
      "metadata": {
        "id": "rkUDMyxrXOCZ",
        "colab_type": "code",
        "outputId": "8da7431a-5672-4b9c-c447-0eda0d873749",
        "colab": {
          "base_uri": "https://localhost:8080/",
          "height": 33
        }
      },
      "cell_type": "code",
      "source": [
        "train_y.shape"
      ],
      "execution_count": 8,
      "outputs": [
        {
          "output_type": "execute_result",
          "data": {
            "text/plain": [
              "(2400, 1)"
            ]
          },
          "metadata": {
            "tags": []
          },
          "execution_count": 8
        }
      ]
    },
    {
      "metadata": {
        "id": "Ain-QssjXl_6",
        "colab_type": "text"
      },
      "cell_type": "markdown",
      "source": [
        "Tương tự, `test_x` có kích thước `600 × 64 × 64`, mỗi hàng trong `test_y` biểu diễn cho nhãn của mỗi mẫu trong `test_x`"
      ]
    },
    {
      "metadata": {
        "id": "R_ceIkDBXWkp",
        "colab_type": "code",
        "outputId": "169950ee-7f69-4cc6-b790-bdd181d9ffa8",
        "colab": {
          "base_uri": "https://localhost:8080/",
          "height": 50
        }
      },
      "cell_type": "code",
      "source": [
        "print(test_x.shape)\n",
        "print(test_y.shape)"
      ],
      "execution_count": 9,
      "outputs": [
        {
          "output_type": "stream",
          "text": [
            "(600, 64, 64)\n",
            "(600, 1)\n"
          ],
          "name": "stdout"
        }
      ]
    },
    {
      "metadata": {
        "id": "o_rh0p9xYF5S",
        "colab_type": "text"
      },
      "cell_type": "markdown",
      "source": [
        "Hai tensor `train_x` và `train_y` được dùng cho việc huấn luyện mô hình phân loại; hai tensor `test_x` và `test_y` được dùng cho quá trình đánh giá (test)."
      ]
    },
    {
      "metadata": {
        "id": "03loyD0hYUrJ",
        "colab_type": "text"
      },
      "cell_type": "markdown",
      "source": [
        "Tập dữ liệu này gồm các ảnh xám (gray images), mỗi ảnh chứa một trong hai loại phương tiện di chuyển: xe máy và xe hơi. Mỗi ảnh có thể chứa trọn vẹn hoặc một phần phương tiện. Cần lưu ý là dữ liệu ảnh ở đây chưa được chuẩn hóa, nên các giá trị vẫn nằm trong khoảng từ 0 đến 255."
      ]
    },
    {
      "metadata": {
        "id": "GwY_Zi5VX7Hr",
        "colab_type": "code",
        "outputId": "d782f0c0-6e71-444d-be8b-2d5438d6975c",
        "colab": {
          "base_uri": "https://localhost:8080/",
          "height": 269
        }
      },
      "cell_type": "code",
      "source": [
        "imgplot = plt.imshow(train_x[0])\n",
        "plt.show()"
      ],
      "execution_count": 10,
      "outputs": [
        {
          "output_type": "display_data",
          "data": {
            "image/png": "[encoded data removed]",
            "text/plain": [
              "<Figure size 432x288 with 1 Axes>"
            ]
          },
          "metadata": {
            "tags": []
          }
        }
      ]
    },
    {
      "metadata": {
        "id": "FzGjMBfurRIQ",
        "colab_type": "code",
        "outputId": "a2de5394-ce0a-4957-e62a-2e244dd67423",
        "colab": {
          "base_uri": "https://localhost:8080/",
          "height": 269
        }
      },
      "cell_type": "code",
      "source": [
        "imgplot = plt.imshow(train_x[2399])\n",
        "plt.show()"
      ],
      "execution_count": 11,
      "outputs": [
        {
          "output_type": "display_data",
          "data": {
            "image/png": "[encoded data removed]",
            "text/plain": [
              "<Figure size 432x288 with 1 Axes>"
            ]
          },
          "metadata": {
            "tags": []
          }
        }
      ]
    },
    {
      "metadata": {
        "id": "Rul5BLAlOMOC",
        "colab_type": "text"
      },
      "cell_type": "markdown",
      "source": [
        "## Chuẩn hóa dữ liệu ảnh\n",
        "Như đã kể trên, ảnh đầu vào có giá trị từ 0 đến 255. Nếu ta đưa trực tiếp bộ ảnh vào quá trình huấn luyện sẽ làm cho gradient lớn. Vì vậy, trước khi huấn luyện, ta có thể sử dụng phương pháp chuẩn hóa dữ liệu để đưa trung bình (mean) của tập train về 0 và độ lệch chuẩn (standard deviation - std) của nó về 1.\n",
        "\n",
        "Đối với việc xử lý hình ảnh, ta có hai cách chuẩn hóa khác nhau:\n",
        "*   (a) Xem mỗi pixel trong ảnh là một đặc trưng riêng rẽ. Ví dụ, pixel [1, 3] và pixel [4, 2] là hai đặc trưng khác nhau, được tính mean và std riêng.\n",
        "*   (b) Xem các pixel khác nhau trong ảnh là cùng 1 loại đặc trưng. Lúc này, pixel [1, 3] và pixel [4, 2] được xem là cùng 1 loại đặc trưng, được tính mean và std chung.\n",
        "\n",
        "Trong mục này, bạn cần hiện thực cách chuẩn hóa (a) trong hàm ```normalize_per_pixel``` và cách (b) trong hàm ```normalize_all_pixel```. Giả sử ta có ```m``` ảnh train ```x_0..xm−1```, mỗi ảnh train có R hàng và C cột, thì mean và std tính theo cách (a) sẽ là:\n",
        "\n",
        "\\begin{equation}\n",
        "\\overline{x}_{rc}=\\frac{1}{m}\\sum_{i=0}^{m-1}x_{rc}^{(i)}, 0 \\le r \\le R-1,0 \\le c \\le C-1 \\tag{1}\n",
        "\\end{equation}\n",
        "\n",
        "\\begin{equation}\n",
        "\\sigma_{rc}=\\sqrt{\\frac{1}{m}\\sum_{i=0}^{m-1}{(x_{rc}^{(i)}-\\overline{x}_{rc})^2}} \\tag{2}\n",
        "\\end{equation}\n",
        "\n",
        "Đối với cách (b) ta sẽ có:\n",
        "\n",
        "\\begin{equation}\n",
        "\\overline{x} = \\frac{1}{mRC}\\sum_{i=0}^{m-1}{\\sum_{r=0}^{R-1}{\\sum_{c=0}^{C-1}{x_{rc}^{(i)}}}} \\tag{3}\n",
        "\\end{equation}\n",
        "\n",
        "\\begin{equation}\n",
        "\\sigma=\\sqrt{\\frac{1}{mRC}\\sum_{i=0}^{m-1}{\\sum_{r=0}^{R-1}{\\sum_{c=0}^{C-1}{(x_{rc}^{(i)}-\\overline{x})^2}}}} \\tag{4}\n",
        "\\end{equation}\n",
        "\n",
        "Sau khi có được mean và std trên toàn bộ data huấn luyện, ta chuẩn hóa các mẫu trong tập huấn luyện theo cách sau:\n",
        "\n",
        "\\begin{equation}\n",
        "x^{(i)} = \\frac{x^{(i)}-\\overline{x}}{\\sigma} \\tag{5}\n",
        "\\end{equation} \n",
        "\n",
        "Đối với cách (a), việc này sẽ được áp dụng riêng cho từng pixel trong số $R\\times{C}$. Với cách (b), thì ta dùng chung $\\overline{x}$ và $\\sigma$ trong công thức (3) và (4) cho toàn bộ tất cả các pixel.\n",
        "\n",
        "Cần lưu ý rằng $\\overline{x}$ và $\\sigma$ chỉ được tính trên $m$ mẫu dữ liệu huấn luyện. Sau đó, hai giá trị này sẽ được dùng lại để chuẩn hóa các mẫu dữ liệu test (và validation nếu có). Việc tính $\\overline{x}$ và $\\sigma$ mà có sử dụng các dữ liệu trong tập test là vi phạm nguyên tắc đánh giá các mô hình học máy. \n",
        "\n"
      ]
    },
    {
      "metadata": {
        "id": "bzRsJ5bWoGt9",
        "colab_type": "text"
      },
      "cell_type": "markdown",
      "source": [
        "#### TODO 1: normalize_per_pixel "
      ]
    },
    {
      "metadata": {
        "id": "NB53DTTQmqCA",
        "colab_type": "code",
        "outputId": "8794ca7c-faf2-46fe-f335-8676320acb4e",
        "colab": {
          "base_uri": "https://localhost:8080/",
          "height": 167
        }
      },
      "cell_type": "code",
      "source": [
        "# GRADED FUNCTION: normalize_per_pixel\n",
        "def normalize_per_pixel(train_x, test_x):\n",
        "    \"\"\"normalize_per_pixel\n",
        "    This function computes train mean and standard deviation on each pixel then applying data scaling on train_x and test_x using these computed values\n",
        "\n",
        "    :param train_x: train images, shape=(num_train, image_height, image_width)\n",
        "    :param test_x: test images, shape=(num_test, image_height, image_width)\n",
        "    \"\"\"\n",
        "    # train_mean and train_std should have the shape of (1, image_height, image_width)\n",
        "    ### START CODE HERE ### (≈4 lines)\n",
        "    train_mean=np.array([np.mean(train_x,axis=0)])\n",
        "    train_std=np.mean((train_x-train_mean)**2,axis=0).reshape(1,train_x.shape[1],train_x.shape[2])**0.5\n",
        "    train_x=(train_x-train_mean)/train_std\n",
        "    test_x=(test_x-train_mean)/train_std\n",
        "    ### END CODE HERE ###\n",
        "    print(train_x,test_x)\n",
        "    return train_x, test_x\n",
        "\n",
        "### SANITY CHECK\n",
        "train_x = np.arange(2*2*3).reshape(2,2,3)\n",
        "assert np.sum(normalize_per_pixel(train_x, train_x))==0, \"Wrong\""
      ],
      "execution_count": 12,
      "outputs": [
        {
          "output_type": "stream",
          "text": [
            "[[[-1. -1. -1.]\n",
            "  [-1. -1. -1.]]\n",
            "\n",
            " [[ 1.  1.  1.]\n",
            "  [ 1.  1.  1.]]] [[[-1. -1. -1.]\n",
            "  [-1. -1. -1.]]\n",
            "\n",
            " [[ 1.  1.  1.]\n",
            "  [ 1.  1.  1.]]]\n"
          ],
          "name": "stdout"
        }
      ]
    },
    {
      "metadata": {
        "id": "MSU-sZg3oM7N",
        "colab_type": "text"
      },
      "cell_type": "markdown",
      "source": [
        "#### TODO 2: normalize_all_pixel"
      ]
    },
    {
      "metadata": {
        "id": "yguGEWe1msRo",
        "colab_type": "code",
        "outputId": "d1a3e8ba-213e-4aab-8828-f245c4fb22cb",
        "colab": {
          "base_uri": "https://localhost:8080/",
          "height": 167
        }
      },
      "cell_type": "code",
      "source": [
        "# GRADED FUNCTION: normalize_per_pixel\n",
        "def normalize_all_pixel(train_x, test_x):\n",
        "    \"\"\"normalize_all_pixel\n",
        "    This function computes train mean and standard deviation on all pixels then applying data scaling on train_x and test_x using these computed values\n",
        "\n",
        "    :param train_x: train images, shape=(num_train, image_height, image_width)\n",
        "    :param test_x: test images, shape=(num_test, image_height, image_width)\n",
        "    \"\"\"\n",
        "    # train_mean and train_std should have the shape of (1, 1, 1)\n",
        "    ### START CODE HERE ### (≈4 lines)\n",
        "    train_mean=np.mean(train_x).reshape(1,1,1)\n",
        "    train_std=np.mean((train_x-train_mean)**2).reshape(1,1,1)**0.5\n",
        "    train_x=(train_x-train_mean)/train_std\n",
        "    test_x=(test_x-train_mean)/train_std\n",
        "    ### END CODE HERE ###\n",
        "    print(train_x,test_x)\n",
        "    return train_x, test_x\n",
        "\n",
        "### SANITY CHECK\n",
        "train_x = np.arange(2*2*3).reshape(2,2,3)\n",
        "assert np.sum(normalize_all_pixel(train_x, train_x))>0, \"Wrong\""
      ],
      "execution_count": 13,
      "outputs": [
        {
          "output_type": "stream",
          "text": [
            "[[[-1.59325501 -1.30357228 -1.01388955]\n",
            "  [-0.72420682 -0.43452409 -0.14484136]]\n",
            "\n",
            " [[ 0.14484136  0.43452409  0.72420682]\n",
            "  [ 1.01388955  1.30357228  1.59325501]]] [[[-1.59325501 -1.30357228 -1.01388955]\n",
            "  [-0.72420682 -0.43452409 -0.14484136]]\n",
            "\n",
            " [[ 0.14484136  0.43452409  0.72420682]\n",
            "  [ 1.01388955  1.30357228  1.59325501]]]\n"
          ],
          "name": "stdout"
        }
      ]
    },
    {
      "metadata": {
        "id": "c-nakFutobwo",
        "colab_type": "text"
      },
      "cell_type": "markdown",
      "source": [
        "## Duỗi dữ liệu\n",
        "\n",
        "Dữ liệu ở bước trên vẫn còn ở dạng tensor 3D ($2400 \\times 64 \\times 64$). Để có thể thực hiện các phép nhân ma trận trong bài toán logistic regression, ta cần chuẩn chúng về dạng tensor 2D ($2400 \\times 4096$). Các bạn cần thực hiện bước này trong hàm `reshape2D`."
      ]
    },
    {
      "metadata": {
        "id": "fZP6cBp5osT5",
        "colab_type": "text"
      },
      "cell_type": "markdown",
      "source": [
        "#### TODO 3: reshape2D"
      ]
    },
    {
      "metadata": {
        "id": "EWQ-uSJdtMzK",
        "colab_type": "code",
        "colab": {}
      },
      "cell_type": "code",
      "source": [
        "# GRADED FUNCTION: reshape2D\n",
        "def reshape2D(tensor):\n",
        "    \"\"\"reshape_2D\n",
        "    Reshape our 3D tensors to 2D. A 3D tensor of shape (num_samples, image_height, image_width) must be reshaped into (num_samples, image_height*image_width)\n",
        "    \"\"\"\n",
        "    result = None\n",
        "    ### START CODE HERE ### (≈1 line)\n",
        "    result=np.array(tensor).reshape(tensor.shape[0],tensor.shape[1]*tensor.shape[2])\n",
        "    ### END CODE HERE ###\n",
        "    return result\n",
        "\n",
        "### SANITY CHECK\n",
        "tensor = np.arange(2*3*4).reshape(2,3,4)\n",
        "assert sum(reshape2D(tensor).shape)==14, \"Wrong\""
      ],
      "execution_count": 0,
      "outputs": []
    },
    {
      "metadata": {
        "id": "LRCYuQCfpl1T",
        "colab_type": "text"
      },
      "cell_type": "markdown",
      "source": [
        "## Thêm đặc trưng 1 vào dữ liệu\n",
        "Để tính tích vô hướng dễ dàng, nối thêm một cột có giá trị bằng 1 vào `train_x` và `test_x` (concatenate có axis=1). Trong file có sẵn hàm `add_one` và ta nên thực hiện code trong hàm này. Sau bước này, dữ liệu huấn luyện sẽ có kích thước $2400 \\times 4097$."
      ]
    },
    {
      "metadata": {
        "id": "GwSNZlg2qFCv",
        "colab_type": "text"
      },
      "cell_type": "markdown",
      "source": [
        "#### TODO 4: add_one"
      ]
    },
    {
      "metadata": {
        "id": "0d732mHkqDWn",
        "colab_type": "code",
        "colab": {}
      },
      "cell_type": "code",
      "source": [
        "# GRADED FUNCTION: add_one\n",
        "def add_one(x):\n",
        "    \"\"\"add_one\n",
        "    This function add ones as an additional feature for x\n",
        "\n",
        "    :param x: input data\n",
        "    \"\"\"\n",
        "    ### START CODE HERE ### (≈1 line)\n",
        "    x=np.concatenate((x,np.ones((x.shape[0],1))),axis=1)\n",
        "    ### END CODE HERE ###\n",
        "    return x\n",
        "\n",
        "### SANITY CHECK\n",
        "x = np.arange(2*3).reshape(2,3)\n",
        "assert add_one(x).sum() == 17, \"Wrong\""
      ],
      "execution_count": 0,
      "outputs": []
    },
    {
      "metadata": {
        "id": "5bgGyuw7rJWg",
        "colab_type": "text"
      },
      "cell_type": "markdown",
      "source": [
        "## Class LogisticClassifier\n",
        "\n",
        "Nhằm hỗ trợ cho việc lập trình, đội ngũ TA cung cấp sẵn cho các bạn class **LogisticClassifier**. Một trong các thành phần chính của class LogisticClassifier là biết `w`, chứa tham số mà ta cần tìm khi huấn luyện. Tham số này là một mảng có số hàng bằng số đặc trưng của dữ liệu đầu vào, số cột bằng 1. Cụ thể trong bài toán phân loại ảnh xe này, `w` sẽ là một ma trận $4097\\times{1}$. `w` được khởi tạo ngẫu nhiên trong hàm `__init__(w_shape)`. Để truy xuất `w` từ bên trong class, ta dùng `self.w`, ví dụ:\n",
        "```python\n",
        "class logistic_classifier(object):\n",
        "    def feed_forward(self, x):\n",
        "        print(self.w)\n",
        "```"
      ]
    },
    {
      "metadata": {
        "id": "bvCZwnjktV88",
        "colab_type": "text"
      },
      "cell_type": "markdown",
      "source": [
        "Để truy xuất w từ bên ngoài class, ta cần có một thực thể của class và gọi thông qua thực thể này, ví dụ:\n",
        "```python\n",
        "if __name__ == \"__main__\":\n",
        "    num_feature = train_x.shape[1]\n",
        "    bin_classifier = LogisticClassifier((num_feature, 1))\n",
        "    print(bin_classifier.w)\n",
        "```"
      ]
    },
    {
      "metadata": {
        "id": "EDSIBJPatljC",
        "colab_type": "text"
      },
      "cell_type": "markdown",
      "source": [
        "Đối với các hàm thuộc class **LogisticClassifier**, việc truy xuất cũng hoàn toàn giống với `w`. Chúng sẽ được mô tả chi tiết trong mục tiếp theo."
      ]
    },
    {
      "metadata": {
        "id": "-HvKyAwnteLa",
        "colab_type": "code",
        "colab": {}
      },
      "cell_type": "code",
      "source": [
        "# GRADED FUNCTION\n",
        "class LogisticClassifier(object):\n",
        "    def __init__(self, w_shape):\n",
        "        \"\"\"__init__\n",
        "        \n",
        "        :param w_shape: create w with shape w_shape using normal distribution\n",
        "        \"\"\"\n",
        "\n",
        "        mean = 0\n",
        "        std = 1\n",
        "        self.w = np.random.normal(0, np.sqrt(2./np.sum(w_shape)), w_shape)\n",
        "\n",
        "\n",
        "    def feed_forward(self, x):\n",
        "        \"\"\"TODO 5: feed_forward\n",
        "        This function compute the output of your logistic classification model\n",
        "        \n",
        "        :param x: input\n",
        "        \"\"\"\n",
        "        result = None\n",
        "        \n",
        "        ### START CODE HERE ### (≈2 lines)\n",
        "        z=x.dot(self.w)\n",
        "        result=1/(1+np.exp(-z))\n",
        "        ### END CODE HERE ###\n",
        "        \n",
        "        return result\n",
        "\n",
        "\n",
        "    def compute_loss(self, y, y_hat):\n",
        "        \"\"\"TODO 6: compute_loss\n",
        "        Compute the loss using y (label) and y_hat (predicted class)\n",
        "\n",
        "        :param y:  the label, the actual class of the samples\n",
        "        :param y_hat: the propabilitis that the given samples belong to class 1\n",
        "        \"\"\"\n",
        "        loss = 0\n",
        "        \n",
        "        ### START CODE HERE ### (≈2 lines)\n",
        "        loss=-np.mean(y*np.log(y_hat)+(1-y)*np.log(1-y_hat))\n",
        "        ### END CODE HERE ###\n",
        "        \n",
        "        return loss\n",
        "\n",
        "\n",
        "    def get_grad(self, x, y, y_hat):\n",
        "        \"\"\"TODO 7: get_grad\n",
        "        Compute and return the gradient of w\n",
        "\n",
        "        :param x: input\n",
        "        :param y: the label, the actual class of the samples\n",
        "        :param y_hat: predicted y\n",
        "        \"\"\" \n",
        "        w_grad = None\n",
        "        \n",
        "        ### START CODE HERE ### (≈2 lines)\n",
        "        w_grad=x.T@(y_hat-y)*1.0/x.shape[0]\n",
        "        ### END CODE HERE ###\n",
        "        \n",
        "        return w_grad\n",
        "\n",
        "\n",
        "    def update_weight(self, grad, learning_rate):\n",
        "        \"\"\"TODO 8: update_weight\n",
        "        Update w using the computed gradient\n",
        "\n",
        "        :param grad: gradient computed from the loss\n",
        "        :param learning_rate: float, learning rate\n",
        "        \"\"\"\n",
        "        ### START CODE HERE ### (≈1 line)\n",
        "        self.w=self.w.astype('float64')\n",
        "        self.w=self.w-learning_rate*grad\n",
        "        ### END CODE HERE ###\n",
        "        return self.w\n",
        "\n",
        "\n",
        "    def update_weight_momentum(self, grad, learning_rate, momentum, momentum_rate):\n",
        "        \"\"\"update_weight with momentum\n",
        "        BONUS:[YC1.8]\n",
        "        Update w using the algorithm with momnetum\n",
        "\n",
        "        :param grad: gradient computed from the loss\n",
        "        :param learning_rate: float, learning rate\n",
        "        :param momentum: the array storing momentum for training w, should have the same shape as w\n",
        "        :param momentum_rate: float, how much momentum to reuse after each loop (denoted as gamma in the document)\n",
        "        \"\"\"\n",
        "        ### START CODE HERE ### (≈3 lines)\n",
        "        momentum=momentum*momentum_rate+learning_rate*grad\n",
        "        self.w-=momentum\n",
        "        ### END CODE HERE ###\n",
        "        return self.w\n",
        "\n",
        "\n",
        "    def numerical_check(self, x, y, grad):\n",
        "        eps = 0.000005\n",
        "        w_test0 = np.copy(self.w)\n",
        "        w_test1 = np.copy(self.w)\n",
        "        w_test0[2] = w_test0[2] - eps\n",
        "        w_test1[2] = w_test1[2] + eps\n",
        "\n",
        "        y_hat0 = np.dot(x, w_test0)\n",
        "        y_hat0 = 1. / (1. + np.exp(-y_hat0))\n",
        "        loss0 = self.compute_loss(y, y_hat0) \n",
        "\n",
        "        y_hat1 = np.dot(x, w_test1)\n",
        "        y_hat1 = 1. / (1. + np.exp(-y_hat1))\n",
        "        loss1 = self.compute_loss(y, y_hat1) \n",
        "\n",
        "        numerical_grad = (loss1 - loss0)/(2*eps)\n",
        "        print(numerical_grad)\n",
        "        print(grad[2])\n",
        "\n",
        "### SANITY CHECK        \n",
        "eps = 0.001        \n",
        "classifer = LogisticClassifier((3,1))\n",
        "classifer.w = np.arange(3*1).reshape(3,1)\n",
        "x = np.ones(2*3).reshape(2,3)\n",
        "y = 1\n",
        "y_hat = classifer.feed_forward(x)\n",
        "assert sum(y_hat)-1.905 < eps, \"Wrong\"\n",
        "loss = classifer.compute_loss(y, y_hat)\n",
        "assert loss - 0.048 < eps, \"Wrong\"\n",
        "grad = classifer.get_grad(x, y, y_hat)\n",
        "assert sum(grad) + 0.142 < eps, \"Wrong\"\n",
        "updateweight = classifer.update_weight(grad, 0.1)\n",
        "assert sum(updateweight) - 3.014 < eps, \"Wrong\"\n",
        "updatemomen = classifer.update_weight_momentum(grad, 0.1, 0.1, 0.1)\n",
        "assert sum(updatemomen) - 2.998 < eps, \"Wrong\""
      ],
      "execution_count": 0,
      "outputs": []
    },
    {
      "metadata": {
        "id": "hPll6bewuoqH",
        "colab_type": "text"
      },
      "cell_type": "markdown",
      "source": [
        "## Tính các giá trị phân loại\n",
        "\n",
        "Các giá trị phân loại, $\\hat{y}$, sẽ được tính trong hàm `feed_forward` của class `LogisticClassifier`. Công thức tính như sau:\n",
        "\n",
        "\\begin{equation}\n",
        "z = xw  \\tag{6}\n",
        "\\end{equation}\n",
        "\\begin{equation}\n",
        "\\hat{y} = \\frac{1}{1+e^{-z}} \\tag{7}\n",
        "\\end{equation}\n",
        "\n",
        "Ở đây, $w = [w_0, w_1,.., w_{4096}]^T$ là các tham số cần học (lưu trong biến `self.w` trong class `LogisticClassifier`). Lẽ ra công thức (6) được viết là $z=xw+w_{4096}$, tuy nhiên ở bước trên ta đã thêm 1 vào làm đặc trưng cuối cho tất cả các mẫu. Việc này giúp cho quá trình nhân ma trận và quản lý các biến gọn hơn."
      ]
    },
    {
      "metadata": {
        "id": "BODXyv9Hu8gm",
        "colab_type": "text"
      },
      "cell_type": "markdown",
      "source": [
        "#### TODO 5: feed_forward\n",
        "\n",
        "Các bạn làm bài vào phần class [ở trên](https://colab.research.google.com/drive/1_DcdsXqPkAM3UB4GCHZHf_JlJRRRCA9T#scrollTo=-HvKyAwnteLa&line=21&uniqifier=1)"
      ]
    },
    {
      "metadata": {
        "id": "QhgYv_vEyNI2",
        "colab_type": "text"
      },
      "cell_type": "markdown",
      "source": [
        "## Tính độ lỗi\n",
        "\n",
        "Việc tính độ lỗi được thực hiện trong hàm `compute_loss` của class `LogisticClassifier`. Công thức tính độ lỗi như sau:\n",
        "\n",
        "\\begin{equation}\n",
        "J(w) = -\\frac{1}{m}\\sum_{i=0}^{m-1}(y^{(i)}\\log{\\hat{y}^{(i)}} + (1-y^{(i)})\\log(1-\\hat{y}^{(i)})) \\tag{8}\n",
        "\\end{equation}\n",
        "\n",
        "Trong đó:\n",
        "-  $y^{(i)}$ là nhãn của mẫu thứ $i$, mẫu thuộc lớp 0 sẽ có $y^{(i)}=0$, mẫu thuộc lớp 1 sẽ có $y^{(i)}=1$. Ta có thể truy cập các nhãn này thông qua biến `train_y` và `test_y`.\n",
        "- $\\hat{y}^{(i)} \\in (0, 1)$ là phần tử thứ $i$ trong vector $\\hat{y}$.\n",
        "- $m=2400$ là tổng số mẫu huấn luyện.\n",
        "\n",
        "\n",
        "Để tính trung bình trên ma trận theo hàng hoặc cột, ta có thể sử dụng hàm `np.mean()` với tham số axis tương ứng."
      ]
    },
    {
      "metadata": {
        "id": "fobSVpxdzJCK",
        "colab_type": "text"
      },
      "cell_type": "markdown",
      "source": [
        "#### TODO 6: compute_loss\n",
        "\n",
        "Các bạn làm bài vào phần class [ở trên](https://colab.research.google.com/drive/1_DcdsXqPkAM3UB4GCHZHf_JlJRRRCA9T#scrollTo=-HvKyAwnteLa&line=21&uniqifier=1)"
      ]
    },
    {
      "metadata": {
        "id": "akV674wBzsi6",
        "colab_type": "text"
      },
      "cell_type": "markdown",
      "source": [
        "## Tính đạo hàm\n",
        "Để tính đạo hàm riêng cho thành phần $w_j$ trong $w$ trong hàm `get_grad`, ta dùng công thức sau:\n",
        "\\begin{equation}\n",
        "\\frac{\\partial  J(w_j)}{\\partial w_j} = \\frac{1}{m}\\sum_{i=1}^{m}(\\hat{y}^{(i)} - y^{(i)})x^{(i)}_j \\tag{9}\n",
        "\\end{equation}\n",
        "\n",
        "Trong trường hợp này, sau khi thêm 1 vào `train_x` thì ta sẽ có $0 \\le j \\le 4096$."
      ]
    },
    {
      "metadata": {
        "id": "PpjrfpjT0W85",
        "colab_type": "text"
      },
      "cell_type": "markdown",
      "source": [
        "#### TODO 7: get_grad\n",
        "Các bạn làm bài vào phần class [ở trên](https://colab.research.google.com/drive/1_DcdsXqPkAM3UB4GCHZHf_JlJRRRCA9T#scrollTo=-HvKyAwnteLa&line=21&uniqifier=1)"
      ]
    },
    {
      "metadata": {
        "id": "Sh9WycsLLocE",
        "colab_type": "text"
      },
      "cell_type": "markdown",
      "source": [
        "## Cập nhật $w$\n",
        "Để huấn luyện được mô hình phân loại trong hàm `update_weight`, ta cần cập nhật $w$ theo công thức sau:\n",
        "\\begin{equation}\n",
        "w = w - \\alpha\\times\\frac{\\partial  J(w)}{\\partial w} \\tag{10}\n",
        "\\end{equation}\n",
        "\n",
        "Với $\\alpha$ là hệ số học (`learning_rate`)."
      ]
    },
    {
      "metadata": {
        "id": "GpHPICzyL7eW",
        "colab_type": "text"
      },
      "cell_type": "markdown",
      "source": [
        "#### TODO 8: update_weight\n",
        "Các bạn làm bài vào phần class [ở trên](https://colab.research.google.com/drive/1_DcdsXqPkAM3UB4GCHZHf_JlJRRRCA9T#scrollTo=-HvKyAwnteLa&line=21&uniqifier=1)"
      ]
    },
    {
      "metadata": {
        "id": "8KLXKJ_IM301",
        "colab_type": "text"
      },
      "cell_type": "markdown",
      "source": [
        "## Cập nhật $w$ dùng momentum\n",
        "\n",
        "Giải thuật cập nhật trình bày trong phần trước có điểm yếu là chậm và dễ rơi vào tối ưu cục bộ. Tuy trong bài này, giải thuật đó cũng đủ để giải quyết, nhưng ta vẫn có thể sử dụng giải thuật có quán tính để việc huấn luyện diễn ra nhanh hơn.\n",
        "\n",
        "Khởi tạo ma trận quán tính trước khi vào vòng lặp chính:\n",
        "\\begin{equation}\n",
        "\\Delta w = 0 \\tag{11}\n",
        "\\end{equation}\n",
        "\n",
        "Ở đây, $\\Delta w$ là ma trận có kích thước bằng chính kích thước của $w$. Quá trình cập nhật $w$ sẽ được diễn ra như sau:\n",
        "\\begin{equation}\n",
        "\\Delta w = \\gamma\\Delta w + \\alpha\\frac{\\partial  J(w)}{\\partial w} \\tag{12}\n",
        "\\end{equation}\n",
        "\n",
        "\\begin{equation}\n",
        "w = w - \\Delta w \\tag{13}\n",
        "\\end{equation}\n",
        "\n",
        "Với $\\gamma$ là hệ số quán tính (thường được đặt là 0.9)."
      ]
    },
    {
      "metadata": {
        "id": "ZmqEjanxNUt_",
        "colab_type": "text"
      },
      "cell_type": "markdown",
      "source": [
        "#### TODO 9: update_weight_momentum\n",
        "\n",
        "Các bạn làm bài vào phần class [ở trên](https://colab.research.google.com/drive/1_DcdsXqPkAM3UB4GCHZHf_JlJRRRCA9T#scrollTo=-HvKyAwnteLa&line=21&uniqifier=1)"
      ]
    },
    {
      "metadata": {
        "id": "wrP0xiO8NvzD",
        "colab_type": "text"
      },
      "cell_type": "markdown",
      "source": [
        "## Đánh giá mô hình phân loại\n",
        "Để đánh giá mô hình phân loại trên tập kiểm thử (`test_x` và `test_y`), trước tiên, ta cần thực hiện tính các giá trị phân loại trên`test_x`. Sau khi đã có các giá trị này, ta sử dụng các tiêu chí sau để đánh giá mô hình:\n",
        "\n",
        "\\begin{equation}\n",
        "Precision = \\frac{TP}{TP+FP} \\tag{14}\n",
        "\\end{equation}\n",
        "\n",
        "\\begin{equation}\n",
        "Recall = \\frac{TP}{P} \\tag{15}\n",
        "\\end{equation}\n",
        "\n",
        "\\begin{equation}\n",
        "F_1-score = 2\\times\\frac{Precision\\times Recall}{Precision+Recall} \\tag{16}\n",
        "\\end{equation}\n",
        "\n",
        "Trong đó:\n",
        "- Lớp positive là lớp có giá trị y = 1.\n",
        "- TP (true positive) là tổng số các mẫu mà mô hình dự đoán là positive ($\\hat{y}=1$) và thực sự có nhãn là positive ($y=1$)\n",
        "- FP (false positive) là tổng số các mẫu mô hình dự đoán là positive ($\\hat{y}=1$) nhưng thực chất có nhãn là negative ($y=0$)\n",
        "- P là tổng số mẫu positive trong tập test\n",
        "\\end{itemize}\n",
        "\n",
        "Nhiệm vụ của bạn trong bước này là tính các thông số trên trong hàm `test`. Khi tiến hành kiểm thử, người ra đề đã tính được các giá trị $Precision=0.766$, $Recall=0.830$ và $F_1-score=0.797$. Bạn hãy cố gắng hoàn thiện bài làm của mình để đạt kết quả tương tự hoặc tốt hơn."
      ]
    },
    {
      "metadata": {
        "id": "jz8g3el2Ork0",
        "colab_type": "text"
      },
      "cell_type": "markdown",
      "source": [
        "#### TODO 10: test"
      ]
    },
    {
      "metadata": {
        "id": "8dYywqX6tOS9",
        "colab_type": "code",
        "outputId": "b7aa1b10-e430-426e-ef4d-6fe7dadb73dd",
        "colab": {
          "base_uri": "https://localhost:8080/",
          "height": 154
        }
      },
      "cell_type": "code",
      "source": [
        "# GRADED FUNCTION\n",
        "def test(y_hat, test_y):\n",
        "    \"\"\"test\n",
        "    Compute precision, recall and F1-score based on predicted test values\n",
        "\n",
        "    :param y_hat: predicted values, output of classifier.feed_forward\n",
        "    :param test_y: test labels\n",
        "    \"\"\"\n",
        "    \n",
        "    # [TODO 1.10]\n",
        "    # Compute test scores using test_y and y_hat\n",
        "\n",
        "    precision = 0\n",
        "    recall = 0\n",
        "    f1 = 0\n",
        "    ### START CODE HERE ### (≈7 lines)\n",
        "    tp=np.sum(1 for i in range(len(y_hat)) if (y_hat[i][0]>=0.5 and test_y[i][0]))\n",
        "    fp=np.sum(1 for i in range(len(y_hat)) if (y_hat[i][0]>=0.5 and test_y[i][0]==0))\n",
        "    p=len(test_y[test_y==1])\n",
        "    precision=tp/(tp+fp)\n",
        "    recall=tp/p\n",
        "    f1=2*precision*recall/(precision+recall)\n",
        "    ### END CODE HERE ###\n",
        "\n",
        "    return precision, recall, f1\n",
        "\n",
        "### SANITY CHECK\n",
        "y_hat = np.arange(2).reshape(2, 1)/1.5\n",
        "print (y_hat)\n",
        "\n",
        "test_y = np.arange(2).reshape(2, 1)\n",
        "print (test_y)\n",
        "\n",
        "assert sum(test(y_hat, test_y)) == 3, \"Wrong\"\n"
      ],
      "execution_count": 44,
      "outputs": [
        {
          "output_type": "stream",
          "text": [
            "[[0.        ]\n",
            " [0.66666667]]\n",
            "[[0]\n",
            " [1]]\n"
          ],
          "name": "stdout"
        },
        {
          "output_type": "stream",
          "text": [
            "/usr/local/lib/python3.6/dist-packages/ipykernel_launcher.py:16: DeprecationWarning: Calling np.sum(generator) is deprecated, and in the future will give a different result. Use np.sum(np.fromiter(generator)) or the python sum builtin instead.\n",
            "  app.launch_new_instance()\n",
            "/usr/local/lib/python3.6/dist-packages/ipykernel_launcher.py:17: DeprecationWarning: Calling np.sum(generator) is deprecated, and in the future will give a different result. Use np.sum(np.fromiter(generator)) or the python sum builtin instead.\n"
          ],
          "name": "stderr"
        }
      ]
    },
    {
      "metadata": {
        "id": "4e3JORB8PEfL",
        "colab_type": "text"
      },
      "cell_type": "markdown",
      "source": [
        "## Vòng lặp huấn luyện\n",
        "\n",
        "Vòng lặp của quá trình huấn luyện được xây dựng trong đoạn code sau đây. Tất cả khung sườn cho việc thực thi đã được lập trình sẵn. Ta có thể thay đổi hai tham số tác động đến quá trình huấn luyện như sau:\n",
        "\n",
        "- `num_epoch`: số lượng vòng lặp cho quá trình huấn luyện.\n",
        "- `learning_rate`: hệ số học $\\alpha$.\n",
        "- `momentum_rate`: hệ số momentum $\\gamma$.\n",
        "- `epochs_to_draw`: số lượng epochs cần đạt được để vẽ đồ thị độ lỗi trong lúc huấn luyện."
      ]
    },
    {
      "metadata": {
        "id": "HEoEEijecqXi",
        "colab_type": "code",
        "colab": {}
      },
      "cell_type": "code",
      "source": [
        "def plot_loss(all_loss):\n",
        "    plt.figure(1)\n",
        "    plt.clf()\n",
        "    plt.plot(all_loss)"
      ],
      "execution_count": 0,
      "outputs": []
    },
    {
      "metadata": {
        "id": "zkrzCU6lPak7",
        "colab_type": "code",
        "outputId": "d4ab0778-5826-4776-ecba-d4956bfc7584",
        "colab": {
          "base_uri": "https://localhost:8080/",
          "height": 5705
        }
      },
      "cell_type": "code",
      "source": [
        "#@title Training { display-mode: \"both\" }\n",
        "normalize_method = \"per_pixel\" #@param [\"all_pixel\", \"per_pixel\"]\n",
        "update_weight_method = \"normal\" #@param [\"normal\", \"momentum\"]\n",
        "num_epoch = 1000 #@param {type:\"integer\"}\n",
        "learning_rate = 0.01 #@param {type:\"number\"}\n",
        "momentum_rate = 0.9 #@param {type:\"number\"}\n",
        "epochs_to_draw = 100 #@param {type:\"integer\"}\n",
        "\n",
        "np.random.seed(2018)\n",
        "\n",
        "# Load data from file\n",
        "# Make sure that vehicles.dat is in data/\n",
        "train_x, train_y, test_x, test_y = get_vehicle_data()\n",
        "num_train = train_x.shape[0]\n",
        "num_test = test_x.shape[0]\n",
        "\n",
        "# Normalize our data: choose one of the two methods before training\n",
        "if normalize_method == \"all_pixel\":\n",
        "    train_x, test_x = normalize_all_pixel(train_x, test_x) \n",
        "else:\n",
        "    train_x, test_x = normalize_per_pixel(train_x, test_x) \n",
        "\n",
        "# Reshape our data\n",
        "# train_x: shape=(2400, 64, 64) -> shape=(2400, 64*64)\n",
        "# test_x: shape=(600, 64, 64) -> shape=(600, 64*64)\n",
        "train_x = reshape2D(train_x)\n",
        "test_x = reshape2D(test_x)\n",
        "\n",
        "# Pad 1 as the last feature of train_x and test_x\n",
        "train_x = add_one(train_x) \n",
        "test_x = add_one(test_x)\n",
        "\n",
        "# Create classifier\n",
        "num_feature = train_x.shape[1]\n",
        "bin_classifier = LogisticClassifier((num_feature, 1))\n",
        "momentum = np.zeros_like(bin_classifier.w)\n",
        "\n",
        "# Define hyper-parameters and train-related parameters\n",
        "all_loss = []\n",
        "plt.ion()\n",
        "for e in range(num_epoch):    \n",
        "    y_hat = bin_classifier.feed_forward(train_x)\n",
        "    loss = bin_classifier.compute_loss(train_y, y_hat)\n",
        "    grad = bin_classifier.get_grad(train_x, train_y, y_hat)\n",
        "\n",
        "    # Updating weight: choose either normal SGD or SGD with momentum\n",
        "    if update_weight_method == \"normal\":\n",
        "        bin_classifier.update_weight(grad, learning_rate)\n",
        "    else: \n",
        "        bin_classifier.update_weight_momentum(grad, learning_rate, momentum, momentum_rate)\n",
        "\n",
        "    all_loss.append(loss) \n",
        "\n",
        "    if (e % epochs_to_draw == epochs_to_draw-1):\n",
        "        plot_loss(all_loss)\n",
        "        plt.show()\n",
        "        plt.pause(0.1)     \n",
        "        print(\"Epoch %d: loss is %.5f\" % (e+1, loss))\n",
        "\n",
        "y_hat = bin_classifier.feed_forward(test_x)\n",
        "precision, recall, f1 = test(y_hat, test_y)\n",
        "print(\"Precision: %.3f\" % precision)\n",
        "print(\"Recall: %.3f\" % recall)\n",
        "print(\"F1-score: %.3f\" % f1)"
      ],
      "execution_count": 46,
      "outputs": [
        {
          "output_type": "stream",
          "text": [
            "Reading vehicle data...\n",
            "EOF Reached\n",
            "Done reading\n",
            "[[[-0.75118653 -1.15748498 -1.04647363 ... -0.75180351  1.42435733\n",
            "    0.59829548]\n",
            "  [-1.18627331 -0.79803185 -0.61205517 ...  0.04259907  1.38566852\n",
            "    0.40350883]\n",
            "  [ 0.09870111 -0.47991064 -1.08492691 ...  0.75008153 -0.07413474\n",
            "    0.28723528]\n",
            "  ...\n",
            "  [-0.56416359  0.63954484  1.44473651 ... -0.32600671 -0.25256551\n",
            "   -0.18010676]\n",
            "  [-0.7649102  -0.17853185  1.14028905 ... -0.28271976 -0.22505078\n",
            "   -0.18389908]\n",
            "  [ 0.10841937 -0.15449722  0.35621025 ... -0.24225544 -0.18119004\n",
            "   -0.15247033]]\n",
            "\n",
            " [[-0.66427815  0.44593246 -0.66278446 ... -0.32361403  1.23170445\n",
            "    0.12030469]\n",
            "  [ 0.20642302  0.08866095 -0.80325288 ... -0.40850521  1.17863617\n",
            "    0.12709885]\n",
            "  [ 0.32300969 -0.56435573 -0.77933812 ... -0.54802995  1.03058737\n",
            "    0.13438986]\n",
            "  ...\n",
            "  [-0.47132899 -0.37246851 -0.19882533 ... -0.25217065 -0.17203199\n",
            "    0.30409769]\n",
            "  [-0.39886014 -0.6109744  -0.34581964 ... -0.96338116 -0.71872416\n",
            "   -0.83811662]\n",
            "  [-0.03287033 -0.43321934 -0.58363945 ... -0.81061458 -0.87118357\n",
            "   -1.06553759]]\n",
            "\n",
            " [[-0.42360876 -0.4256347  -0.25924929 ...  1.74286565  2.07067667\n",
            "    1.78396092]\n",
            "  [-0.44350194 -0.47135556 -0.27581093 ...  1.70917879  1.6240694\n",
            "    1.30812328]\n",
            "  [-0.47809237 -0.4929022  -0.29169642 ...  1.70625144  1.19471751\n",
            "    0.85403703]\n",
            "  ...\n",
            "  [ 1.76907931  1.83781831  1.83869889 ... -0.27678267 -0.36407347\n",
            "   -0.32473926]\n",
            "  [ 1.35073506  1.62537138  1.86492057 ... -0.41762563 -0.18185436\n",
            "   -0.29712904]\n",
            "  [ 1.05444607  1.13381837  2.09369556 ...  0.50333397  0.16380672\n",
            "   -0.35744461]]\n",
            "\n",
            " ...\n",
            "\n",
            " [[-0.21636568 -0.20607961 -0.19971132 ... -0.10641646 -0.47109844\n",
            "   -0.97845334]\n",
            "  [-0.21801777 -0.22468162 -0.20328766 ... -0.24560644 -0.7599394\n",
            "   -1.11674602]\n",
            "  [-0.22173971 -0.2200796  -0.20066998 ... -0.8646425  -1.27354732\n",
            "   -1.26669312]\n",
            "  ...\n",
            "  [ 0.02997784  0.33531996  0.91534955 ... -0.49829085 -0.48177631\n",
            "   -0.52596708]\n",
            "  [ 1.53065797  1.65008238  1.77280639 ... -0.41149354 -0.4101783\n",
            "   -0.44810232]\n",
            "  [ 1.71789337  1.62932436  1.34552573 ... -0.35226044 -0.3290458\n",
            "   -0.37607864]]\n",
            "\n",
            " [[-0.45703506 -0.50547291 -0.55693917 ... -1.42201313 -1.42814824\n",
            "   -1.42540576]\n",
            "  [-0.53634836 -0.50468988 -0.44063654 ... -1.24806041 -1.24301487\n",
            "   -1.22354078]\n",
            "  [-0.6831745  -0.64880082 -0.53226633 ... -0.78232324 -0.85690927\n",
            "   -0.91005381]\n",
            "  ...\n",
            "  [-0.72507689 -0.72015408 -0.72205662 ... -1.41508859 -1.44198368\n",
            "   -1.46293413]\n",
            "  [-0.70907205 -0.70981842 -0.72041729 ... -1.33130624 -1.35432864\n",
            "   -1.3916853 ]\n",
            "  [-0.67788854 -0.69335999 -0.73203678 ... -1.26285734 -1.28394755\n",
            "   -1.30156859]]\n",
            "\n",
            " [[ 0.31845518  1.3640719   1.5335053  ... -0.16847291  0.23115238\n",
            "    0.82177169]\n",
            "  [ 0.55128116  1.18869337  1.6295731  ...  0.45611133  2.03186038\n",
            "    2.14363524]\n",
            "  [ 0.66908578  1.2479658   1.67837602 ... -0.19975614  0.22256205\n",
            "    0.12165274]\n",
            "  ...\n",
            "  [-1.38110805 -1.58315933 -1.44842477 ...  0.61540305  1.39527424\n",
            "   -0.51339034]\n",
            "  [-1.19920688 -1.38319325 -1.27924329 ...  0.55124375  1.01530359\n",
            "   -0.47326453]\n",
            "  [-1.18161704 -1.31274248 -1.18341196 ...  0.79056923  0.16996738\n",
            "   -0.7114911 ]]] [[[ 0.65271822  0.71871301  0.11120922 ...  2.40686963  2.43733861\n",
            "    2.41714352]\n",
            "  [ 0.71707834  0.91535198  0.69336364 ...  2.44222325  2.41455653\n",
            "    2.47030157]\n",
            "  [ 0.56654472  0.91018544  1.25575322 ...  1.85189322  1.27046988\n",
            "    0.80945712]\n",
            "  ...\n",
            "  [ 0.10424552  0.06213845  0.29362766 ... -0.8059411  -1.24374732\n",
            "   -1.21768772]\n",
            "  [-0.62841696 -0.06733234  0.55075833 ... -0.89592823 -1.28644855\n",
            "   -1.24071203]\n",
            "  [-1.58705706 -0.95350064 -0.02096627 ... -1.01229041 -0.71716716\n",
            "   -0.45061474]]\n",
            "\n",
            " [[-0.16956885 -0.77160029 -0.60986181 ... -0.59666239 -0.76939968\n",
            "   -0.92258429]\n",
            "  [ 0.10031282 -0.63802714 -0.51315981 ... -0.99118158 -0.61564413\n",
            "   -0.63302857]\n",
            "  [-0.4524571  -1.04504317 -0.67530789 ... -0.71900073 -0.40239503\n",
            "   -0.64257434]\n",
            "  ...\n",
            "  [-0.03191189  0.03109509  0.20744838 ...  0.97227734  0.85012424\n",
            "    0.95808811]\n",
            "  [-0.24375418 -0.12293209  0.18230163 ...  1.11539554  1.06467093\n",
            "    1.13082654]\n",
            "  [-0.56731399 -0.24740459  0.30056126 ...  1.21836643  1.25424292\n",
            "    1.25750429]]\n",
            "\n",
            " [[-1.64032621 -0.8514385  -1.56908475 ... -0.14365033 -0.13550955\n",
            "   -0.14041755]\n",
            "  [-1.15974576 -1.3513815   0.09999146 ... -0.13909571 -0.13256866\n",
            "   -0.13046498]\n",
            "  [-1.0356594  -0.82418678 -0.85736079 ... -0.14276588 -0.13726172\n",
            "   -0.12672106]\n",
            "  ...\n",
            "  [-0.54559667  0.0931818  -0.5620094  ... -0.52290287 -0.50655585\n",
            "   -0.49452523]\n",
            "  [ 0.82957904  0.93964104  1.12186622 ... -0.52800315 -0.49040023\n",
            "   -0.47326453]\n",
            "  [ 0.96844364  1.41254049 -0.07043205 ... -0.48671099 -0.46458024\n",
            "   -0.45682608]]\n",
            "\n",
            " ...\n",
            "\n",
            " [[-1.49993573 -1.69639291 -1.47647012 ... -0.54701724 -0.55810297\n",
            "   -0.59978532]\n",
            "  [-1.43165314 -1.56472112 -1.40321809 ... -0.54634263 -0.55918077\n",
            "   -0.5953363 ]\n",
            "  [-1.08692993 -1.15547136 -1.37101004 ... -0.5543622  -0.56652517\n",
            "   -0.59799442]\n",
            "  ...\n",
            "  [-1.24495064 -0.9933356  -0.5127641  ... -1.01514327 -1.42959391\n",
            "   -1.2428412 ]\n",
            "  [-1.4287637  -1.22874948 -0.37652437 ...  0.28143203 -0.59530582\n",
            "   -1.13377262]\n",
            "  [-0.85603642 -0.98446976 -0.8804341  ... -0.06502517 -0.26127858\n",
            "   -0.81087257]]\n",
            "\n",
            " [[ 1.00703703  0.65218117 -0.00786673 ... -1.26687202 -1.1982077\n",
            "   -1.38815972]\n",
            "  [ 0.69055079  0.38866979 -0.09779927 ... -1.31697912 -1.29947823\n",
            "   -1.38687395]\n",
            "  [ 0.24610389  0.03325567 -0.19416809 ... -1.35222584 -1.35561239\n",
            "   -1.27943024]\n",
            "  ...\n",
            "  [-0.76839971 -0.3538425   0.67527872 ...  0.19699871  0.19966118\n",
            "    0.24121399]\n",
            "  [-0.49192371 -0.06733234  0.76569141 ...  0.11586574  0.12052059\n",
            "    0.11175692]\n",
            "  [-0.21101822  0.3967532   1.18476197 ...  0.13665065  0.12684278\n",
            "    0.02765859]]\n",
            "\n",
            " [[ 0.3318257   0.26629648  0.10459389 ... -1.40960184 -1.37843137\n",
            "   -1.35712136]\n",
            "  [ 0.61760003  0.73534667  0.91093345 ... -1.47987789 -1.4437735\n",
            "   -1.3805919 ]\n",
            "  [ 1.94444026  1.89104763  1.77590436 ... -1.51686437 -1.53868063\n",
            "   -1.47685557]\n",
            "  ...\n",
            "  [-0.91074609 -0.88157952 -0.78361325 ... -0.35061873 -0.26495529\n",
            "   -0.2744323 ]\n",
            "  [-0.74629748 -0.74070717 -0.66514878 ...  0.26303577 -0.10163244\n",
            "   -0.51100785]\n",
            "  [-0.29702065 -0.29076137 -0.3115777  ...  1.35281698  1.0879052\n",
            "    0.4003391 ]]]\n"
          ],
          "name": "stdout"
        },
        {
          "output_type": "display_data",
          "data": {
            "image/png": "[encoded data removed]",
            "text/plain": [
              "<Figure size 432x288 with 1 Axes>"
            ]
          },
          "metadata": {
            "tags": []
          }
        },
        {
          "output_type": "stream",
          "text": [
            "Epoch 100: loss is 0.26371\n"
          ],
          "name": "stdout"
        },
        {
          "output_type": "display_data",
          "data": {
            "image/png": "[encoded data removed]",
            "text/plain": [
              "<Figure size 432x288 with 1 Axes>"
            ]
          },
          "metadata": {
            "tags": []
          }
        },
        {
          "output_type": "stream",
          "text": [
            "Epoch 200: loss is 0.22853\n"
          ],
          "name": "stdout"
        },
        {
          "output_type": "display_data",
          "data": {
            "image/png": "[encoded data removed]",
            "text/plain": [
              "<Figure size 432x288 with 1 Axes>"
            ]
          },
          "metadata": {
            "tags": []
          }
        },
        {
          "output_type": "stream",
          "text": [
            "Epoch 300: loss is 0.20576\n"
          ],
          "name": "stdout"
        },
        {
          "output_type": "display_data",
          "data": {
            "image/png": "[encoded data removed]",
            "text/plain": [
              "<Figure size 432x288 with 1 Axes>"
            ]
          },
          "metadata": {
            "tags": []
          }
        },
        {
          "output_type": "stream",
          "text": [
            "Epoch 400: loss is 0.18873\n"
          ],
          "name": "stdout"
        },
        {
          "output_type": "display_data",
          "data": {
            "image/png": "[encoded data removed]",
            "text/plain": [
              "<Figure size 432x288 with 1 Axes>"
            ]
          },
          "metadata": {
            "tags": []
          }
        },
        {
          "output_type": "stream",
          "text": [
            "Epoch 500: loss is 0.17513\n"
          ],
          "name": "stdout"
        },
        {
          "output_type": "display_data",
          "data": {
            "image/png": "[encoded data removed]",
            "text/plain": [
              "<Figure size 432x288 with 1 Axes>"
            ]
          },
          "metadata": {
            "tags": []
          }
        },
        {
          "output_type": "stream",
          "text": [
            "Epoch 600: loss is 0.16386\n"
          ],
          "name": "stdout"
        },
        {
          "output_type": "display_data",
          "data": {
            "image/png": "[encoded data removed]",
            "text/plain": [
              "<Figure size 432x288 with 1 Axes>"
            ]
          },
          "metadata": {
            "tags": []
          }
        },
        {
          "output_type": "stream",
          "text": [
            "Epoch 700: loss is 0.15427\n"
          ],
          "name": "stdout"
        },
        {
          "output_type": "display_data",
          "data": {
            "image/png": "[encoded data removed]",
            "text/plain": [
              "<Figure size 432x288 with 1 Axes>"
            ]
          },
          "metadata": {
            "tags": []
          }
        },
        {
          "output_type": "stream",
          "text": [
            "Epoch 800: loss is 0.14596\n"
          ],
          "name": "stdout"
        },
        {
          "output_type": "display_data",
          "data": {
            "image/png": "[encoded data removed]",
            "text/plain": [
              "<Figure size 432x288 with 1 Axes>"
            ]
          },
          "metadata": {
            "tags": []
          }
        },
        {
          "output_type": "stream",
          "text": [
            "Epoch 900: loss is 0.13867\n"
          ],
          "name": "stdout"
        },
        {
          "output_type": "display_data",
          "data": {
            "image/png": "[encoded data removed]",
            "text/plain": [
              "<Figure size 432x288 with 1 Axes>"
            ]
          },
          "metadata": {
            "tags": []
          }
        },
        {
          "output_type": "stream",
          "text": [
            "Epoch 1000: loss is 0.13219\n",
            "Precision: 0.766\n",
            "Recall: 0.830\n",
            "F1-score: 0.797\n"
          ],
          "name": "stdout"
        },
        {
          "output_type": "stream",
          "text": [
            "/usr/local/lib/python3.6/dist-packages/ipykernel_launcher.py:16: DeprecationWarning: Calling np.sum(generator) is deprecated, and in the future will give a different result. Use np.sum(np.fromiter(generator)) or the python sum builtin instead.\n",
            "  app.launch_new_instance()\n",
            "/usr/local/lib/python3.6/dist-packages/ipykernel_launcher.py:17: DeprecationWarning: Calling np.sum(generator) is deprecated, and in the future will give a different result. Use np.sum(np.fromiter(generator)) or the python sum builtin instead.\n"
          ],
          "name": "stderr"
        }
      ]
    },
    {
      "metadata": {
        "id": "2ZvVpS7iPvVr",
        "colab_type": "text"
      },
      "cell_type": "markdown",
      "source": [
        "**Sau khi hoàn thành bài tập trên với numpy, các bạn tiến hành cài đặt lại với tensorflow. **"
      ]
    },
    {
      "metadata": {
        "id": "FZmlnIx6QlPu",
        "colab_type": "text"
      },
      "cell_type": "markdown",
      "source": [
        "## Định Nghĩa Lớp LogisticRegressionTF"
      ]
    },
    {
      "metadata": {
        "id": "pVi-LxozARSO",
        "colab_type": "text"
      },
      "cell_type": "markdown",
      "source": [
        "Chúng ta sử dụng tensorflow eager execution để cài đặt mô hình logistic regression. Với tf eager execution, giá trị của các biến được tính toán ngay lập tức thay vì xây dựng computation graph để chạy sau đó. Một trong những lợi ích thiết thực nhất là giúp chúng ta dễ dàng debug mô hình, xây dựng được dynamic model.\n",
        "\n",
        "Để xây dựng mô hình bằng eager execution, chúng ta thường định nghĩa một lớp đối tượng như mình họa ở dưới\n",
        "\n",
        "Chúng ta nên kế thứa lớp Model và cài đặt 2 hàm chính\n",
        "-  init: khỏi tạo tất cả các tham số \n",
        "- call: hàm này sẽ feedforward cho chúng ta"
      ]
    },
    {
      "metadata": {
        "id": "s5BdlvtmE6Li",
        "colab_type": "code",
        "colab": {}
      },
      "cell_type": "code",
      "source": [
        "class LogisticRegressionTF(tf.keras.Model):\n",
        "\n",
        "    def __init__(self, num_class):\n",
        "        super(LogisticRegressionTF, self).__init__()\n",
        "        # init all weights here\n",
        "        self.dense = tf.keras.layers.Dense(num_class)\n",
        "\n",
        "    def call(self, inputs, training=None, mask=None):\n",
        "        output = self.dense(inputs)\n",
        "        \n",
        "        # softmax op does not exist on the gpu\n",
        "        with tf.device('/cpu:0'):\n",
        "            output = tf.nn.softmax(output)        \n",
        "        return output\n"
      ],
      "execution_count": 0,
      "outputs": []
    },
    {
      "metadata": {
        "id": "O4s4l4aqreJX",
        "colab_type": "text"
      },
      "cell_type": "markdown",
      "source": [
        "#### TODO 11: Định nghĩa one hot encoder"
      ]
    },
    {
      "metadata": {
        "id": "HQu3SvkzrdkK",
        "colab_type": "code",
        "colab": {}
      },
      "cell_type": "code",
      "source": [
        "# GRADED FUNCTION: create_one_hot\n",
        "def create_one_hot(labels, num_k=10):\n",
        "    \"\"\"create_one_hot\n",
        "    This function creates a one-hot (one-of-k) matrix based on the given labels\n",
        "\n",
        "    :param labels: list of labels, each label is one of 0, 1, 2,... , num_k - 1\n",
        "    :param num_k: number of classes we want to classify\n",
        "    \"\"\"\n",
        "    eye_mat = np.zeros((len(labels),num_k))\n",
        "    ### START CODE HERE ### (≈2 lines)\n",
        "    for i in range(len(labels)):\n",
        "        eye_mat[i][labels[i]]=1\n",
        "    ### END CODE HERE ###\n",
        "    return eye_mat\n",
        "\n",
        "### SANITY CHECK\n",
        "x = [1, 2, 3]\n",
        "y = create_one_hot(x, 4)\n",
        "assert y.shape == (3,4), \"Wrong\"\n",
        "assert sum(np.argmax(y, axis=0)) == 3, \"Wrong\""
      ],
      "execution_count": 0,
      "outputs": []
    },
    {
      "metadata": {
        "id": "1qTPLe3RZERS",
        "colab_type": "text"
      },
      "cell_type": "markdown",
      "source": [
        "### Huấn luyện mô hình với tensorflow"
      ]
    },
    {
      "metadata": {
        "id": "D4bYf9IBZJHY",
        "colab_type": "code",
        "outputId": "9282b542-26e2-4394-dedf-6e43a11d8166",
        "colab": {
          "base_uri": "https://localhost:8080/",
          "height": 3482
        }
      },
      "cell_type": "code",
      "source": [
        "#@title Training { display-mode: \"both\" }\n",
        "normalize_method = \"all_pixel\" #@param [\"all_pixel\", \"per_pixel\"]\n",
        "num_epoch = 10 #@param {type:\"integer\"}\n",
        "learning_rate = 0.001 #@param {type:\"number\"}\n",
        "batch_size = 32\n",
        "num_classes = 2\n",
        "np.random.seed(2018)\n",
        "tf.set_random_seed(2018)\n",
        "\n",
        "# Load data from file\n",
        "# Make sure that vehicles.dat is in data/\n",
        "train_x, train_y, test_x, test_y = get_vehicle_data()\n",
        "num_train = train_x.shape[0]\n",
        "num_test = test_x.shape[0]  \n",
        "\n",
        "#generate_unit_testcase(train_x.copy(), train_y.copy()) \n",
        "#logistic_unit_test()\n",
        "\n",
        "# Normalize our data: choose one of the two methods before training\n",
        "if normalize_method == \"all_pixel\":\n",
        "    train_x, test_x = normalize_all_pixel(train_x, test_x) \n",
        "else:\n",
        "    train_x, test_x = normalize_per_pixel(train_x, test_x) \n",
        "\n",
        "# Reshape our data\n",
        "# train_x: shape=(2400, 64, 64) -> shape=(2400, 64*64)\n",
        "# test_x: shape=(600, 64, 64) -> shape=(600, 64*64)\n",
        "train_x = reshape2D(train_x)\n",
        "test_x = reshape2D(test_x)\n",
        "train_y = create_one_hot(train_y.astype('int32').flatten().tolist(), num_k=2)\n",
        "test_y = create_one_hot(test_y.astype('int32').flatten().tolist(), num_k=2)\n",
        "\n",
        "device = '/cpu:0' if tfe.num_gpus() == 0 else '/gpu:0'\n",
        "\n",
        "with tf.device(device):\n",
        "    # build model and optimizer\n",
        "    model = LogisticRegressionTF(num_classes)\n",
        "    model.compile(optimizer=tf.train.AdamOptimizer(learning_rate), loss='binary_crossentropy',\n",
        "                  metrics=['accuracy'])\n",
        "    \n",
        "\n",
        "    # train\n",
        "    model.fit(train_x, train_y, batch_size=batch_size, epochs=num_epoch,\n",
        "              validation_data=(test_x, test_y), verbose=2)\n",
        "\n",
        "    # evaluate on test set\n",
        "    scores = model.evaluate(test_x, test_y, 32, verbose=2)\n",
        "    \n",
        "    y_hat = model.predict(test_x)\n",
        "    precision, recall, f1 = test(y_hat, test_y)\n",
        "    print(\"Precision: %.3f\" % precision)\n",
        "    print(\"Recall: %.3f\" % recall)\n",
        "    print(\"F1-score: %.3f\" % f1)"
      ],
      "execution_count": 0,
      "outputs": [
        {
          "output_type": "stream",
          "text": [
            "Reading vehicle data...\n",
            "EOF Reached\n",
            "Done reading\n",
            "[[[-7.27652968e-01 -1.08908313e+00 -1.00302833e+00 ... -7.67811875e-01\n",
            "    1.23439647e+00  4.77114230e-01]\n",
            "  [-1.10629409e+00 -7.62074888e-01 -6.24387209e-01 ... -3.92145693e-02\n",
            "    1.18276359e+00  2.82056684e-01]\n",
            "  [ 1.81552973e-02 -4.98173502e-01 -1.04892422e+00 ...  6.03327936e-01\n",
            "   -1.48217316e-01  1.67316950e-01]\n",
            "  ...\n",
            "  [-6.07176249e-01  5.00062177e-01  1.24587044e+00 ... -4.35066649e-01\n",
            "   -3.49011849e-01 -2.80168009e-01]\n",
            "  [-7.90759822e-01 -2.45746089e-01  9.81969056e-01 ... -3.89170756e-01\n",
            "   -3.20326916e-01 -2.68694036e-01]\n",
            "  [ 2.96292706e-02 -2.22798142e-01  2.53371750e-01 ... -3.37537876e-01\n",
            "   -2.68694036e-01 -2.34272116e-01]]\n",
            "\n",
            " [[-6.53072142e-01  2.93530657e-01 -6.70283102e-01 ... -3.71959796e-01\n",
            "    1.05654988e+00  3.53662572e-02]\n",
            "  [ 9.84731105e-02  9.44337277e-04 -7.90759822e-01 ... -4.52277609e-01\n",
            "    9.93443029e-01  2.96292706e-02]\n",
            "  [ 2.18949830e-01 -5.72754329e-01 -7.79285848e-01 ... -5.72754329e-01\n",
            "    8.55755349e-01  2.96292706e-02]\n",
            "  ...\n",
            "  [-5.21121449e-01 -4.35066649e-01 -2.85904996e-01 ... -3.66222809e-01\n",
            "   -2.74431022e-01  1.61579964e-01]\n",
            "  [-4.52277609e-01 -6.47335155e-01 -4.06381716e-01 ... -1.02597627e+00\n",
            "   -7.79285848e-01 -8.65340648e-01]\n",
            "  [-1.02321423e-01 -4.80962542e-01 -6.18650222e-01 ... -8.71077635e-01\n",
            "   -9.11236542e-01 -1.07760915e+00]]\n",
            "\n",
            " [[-4.46540622e-01 -4.58014595e-01 -3.20326916e-01 ...  1.53845676e+00\n",
            "    1.83104308e+00  1.57287868e+00]\n",
            "  [-4.63751582e-01 -4.80962542e-01 -3.31800889e-01 ...  1.48682388e+00\n",
            "    1.40076908e+00  1.10818276e+00]\n",
            "  [-4.98173502e-01 -5.09647475e-01 -3.49011849e-01 ...  1.46961292e+00\n",
            "    1.00491700e+00  6.77908763e-01]\n",
            "  ...\n",
            "  [ 1.55566772e+00  1.60730060e+00  1.61303759e+00 ... -3.89170756e-01\n",
            "   -4.52277609e-01 -4.12118702e-01]\n",
            "  [ 1.16555263e+00  1.42945402e+00  1.65893348e+00 ... -5.15384462e-01\n",
            "   -2.80168009e-01 -3.71959796e-01]\n",
            "  [ 9.13125216e-01  9.70495083e-01  1.86546500e+00 ...  3.62374497e-01\n",
            "    5.25772172e-02 -4.23592675e-01]]\n",
            "\n",
            " ...\n",
            "\n",
            " [[-2.68694036e-01 -2.68694036e-01 -2.68694036e-01 ... -1.71165262e-01\n",
            "   -5.15384462e-01 -9.80080381e-01]\n",
            "  [-2.68694036e-01 -2.68694036e-01 -2.68694036e-01 ... -3.03115956e-01\n",
            "   -7.79285848e-01 -1.10629409e+00]\n",
            "  [-2.68694036e-01 -2.68694036e-01 -2.68694036e-01 ... -8.59603662e-01\n",
            "   -1.23824478e+00 -1.23250779e+00]\n",
            "  ...\n",
            "  [-5.64255293e-02  2.18949830e-01  7.52489590e-01 ... -5.95702275e-01\n",
            "   -5.61280355e-01 -5.95702275e-01]\n",
            "  [ 1.33192524e+00  1.45240196e+00  1.57287868e+00 ... -5.09647475e-01\n",
            "   -4.92436515e-01 -5.09647475e-01]\n",
            "  [ 1.53271978e+00  1.42945402e+00  1.17128962e+00 ... -4.40803635e-01\n",
            "   -4.06381716e-01 -4.40803635e-01]]\n",
            "\n",
            " [[-4.75225555e-01 -5.26858435e-01 -5.78491315e-01 ... -1.38740643e+00\n",
            "   -1.39888041e+00 -1.39314342e+00]\n",
            "  [-5.44069395e-01 -5.09647475e-01 -4.75225555e-01 ... -1.22103382e+00\n",
            "   -1.22103382e+00 -1.20382286e+00]\n",
            "  [-6.81757075e-01 -6.47335155e-01 -5.61280355e-01 ... -7.85022835e-01\n",
            "   -8.59603662e-01 -9.11236542e-01]\n",
            "  ...\n",
            "  [-7.56337902e-01 -7.56337902e-01 -7.73548862e-01 ... -1.45051329e+00\n",
            "   -1.45051329e+00 -1.45051329e+00]\n",
            "  [-7.39126942e-01 -7.39126942e-01 -7.56337902e-01 ... -1.37019547e+00\n",
            "   -1.37019547e+00 -1.37019547e+00]\n",
            "  [-7.04705022e-01 -7.21915982e-01 -7.56337902e-01 ... -1.29561465e+00\n",
            "   -1.29561465e+00 -1.29561465e+00]]\n",
            "\n",
            " [[ 1.90264897e-01  1.08523482e+00  1.23439647e+00 ... -2.28535129e-01\n",
            "    1.32895030e-01  6.83645750e-01]\n",
            "  [ 3.96796417e-01  9.47547136e-01  1.32618826e+00 ...  3.39426550e-01\n",
            "    1.77367321e+00  1.87120199e+00]\n",
            "  [ 5.28747110e-01  1.02786495e+00  1.38929511e+00 ... -2.57220062e-01\n",
            "    1.21421057e-01  1.81552973e-02]\n",
            "  ...\n",
            "  [-1.36445849e+00 -1.55377905e+00 -1.45051329e+00 ...  4.42692310e-01\n",
            "    1.17702660e+00 -5.84228302e-01]\n",
            "  [-1.19234889e+00 -1.36445849e+00 -1.27840369e+00 ...  3.91059430e-01\n",
            "    8.32807403e-01 -5.32595422e-01]\n",
            "  [-1.17513793e+00 -1.29561465e+00 -1.17513793e+00 ...  6.32012870e-01\n",
            "    5.83142039e-02 -7.50600915e-01]]] [[[ 4.77114230e-01  5.28747110e-01  9.44337277e-04 ...  2.15231433e+00\n",
            "    2.16952529e+00  2.15805132e+00]\n",
            "  [ 5.40221083e-01  7.12330683e-01  5.11536150e-01 ...  2.15805132e+00\n",
            "    2.12362940e+00  2.16952529e+00]\n",
            "  [ 4.36955323e-01  7.29541643e-01  1.01639098e+00 ...  1.60156362e+00\n",
            "    1.07376084e+00  6.37749856e-01]\n",
            "  ...\n",
            "  [ 1.24183106e-02 -3.34775827e-02  1.73053937e-01 ... -8.82551608e-01\n",
            "   -1.26692971e+00 -1.22677081e+00]\n",
            "  [-6.64546115e-01 -1.42480329e-01  4.31218337e-01 ... -9.62869421e-01\n",
            "   -1.30708862e+00 -1.23250779e+00]\n",
            "  [-1.55377905e+00 -9.62869421e-01 -9.65844359e-02 ... -1.06039819e+00\n",
            "   -7.67811875e-01 -5.09647475e-01]]\n",
            "\n",
            " [[-2.28535129e-01 -7.56337902e-01 -6.24387209e-01 ... -6.24387209e-01\n",
            "   -7.90759822e-01 -9.28447501e-01]\n",
            "  [ 6.68132394e-03 -6.24387209e-01 -5.38332409e-01 ... -9.85817368e-01\n",
            "   -6.47335155e-01 -6.64546115e-01]\n",
            "  [-4.75225555e-01 -9.97291341e-01 -6.87494062e-01 ... -7.27652968e-01\n",
            "   -4.46540622e-01 -6.70283102e-01]\n",
            "  ...\n",
            "  [-1.13795396e-01 -6.21625160e-02  9.27361238e-02 ...  7.75437536e-01\n",
            "    6.72171776e-01  7.58226576e-01]\n",
            "  [-3.08852942e-01 -1.94113209e-01  8.69991372e-02 ...  9.18862203e-01\n",
            "    8.78703296e-01  9.30336176e-01]\n",
            "  [-6.01439262e-01 -3.08852942e-01  2.01738870e-01 ...  1.03360194e+00\n",
            "    1.06802386e+00  1.06802386e+00]]\n",
            "\n",
            " [[-1.49067219e+00 -8.25181742e-01 -1.45625027e+00 ... -2.05587182e-01\n",
            "   -2.05587182e-01 -2.05587182e-01]\n",
            "  [-1.08334614e+00 -1.23824478e+00 -4.79264938e-03 ... -2.05587182e-01\n",
            "   -2.05587182e-01 -2.05587182e-01]\n",
            "  [-9.97291341e-01 -8.02233795e-01 -8.48129688e-01 ... -2.05587182e-01\n",
            "   -2.05587182e-01 -2.05587182e-01]\n",
            "  ...\n",
            "  [-5.89965289e-01 -4.79264938e-03 -6.24387209e-01 ... -6.18650222e-01\n",
            "   -5.84228302e-01 -5.67017342e-01]\n",
            "  [ 6.83645750e-01  7.92648496e-01  9.64758096e-01 ... -6.18650222e-01\n",
            "   -5.67017342e-01 -5.32595422e-01]\n",
            "  [ 8.32807403e-01  1.22865948e+00 -1.42480329e-01 ... -5.67017342e-01\n",
            "   -5.32595422e-01 -5.15384462e-01]]\n",
            "\n",
            " ...\n",
            "\n",
            " [[-1.37019547e+00 -1.55377905e+00 -1.37593246e+00 ... -5.78491315e-01\n",
            "   -5.95702275e-01 -6.30124195e-01]\n",
            "  [-1.31856259e+00 -1.42182835e+00 -1.31282561e+00 ... -5.78491315e-01\n",
            "   -5.95702275e-01 -6.30124195e-01]\n",
            "  [-1.04318723e+00 -1.09482011e+00 -1.30135163e+00 ... -5.78491315e-01\n",
            "   -5.95702275e-01 -6.30124195e-01]\n",
            "  ...\n",
            "  [-1.23824478e+00 -1.00876531e+00 -5.78491315e-01 ... -1.07760915e+00\n",
            "   -1.43903931e+00 -1.24971875e+00]\n",
            "  [-1.40461739e+00 -1.22103382e+00 -4.35066649e-01 ...  1.38632017e-01\n",
            "   -6.64546115e-01 -1.13497902e+00]\n",
            "  [-8.71077635e-01 -9.91554355e-01 -8.94025582e-01 ... -1.71165262e-01\n",
            "   -3.43274862e-01 -8.42392702e-01]]\n",
            "\n",
            " [[ 7.81174523e-01  4.71377243e-01 -1.02321423e-01 ... -1.24398177e+00\n",
            "   -1.18661190e+00 -1.35872150e+00]\n",
            "  [ 5.17273137e-01  2.59108737e-01 -1.76902249e-01 ... -1.28414067e+00\n",
            "   -1.27266670e+00 -1.35298451e+00]\n",
            "  [ 1.50105990e-01 -4.49515560e-02 -2.62957049e-01 ... -1.30135163e+00\n",
            "   -1.31282561e+00 -1.24398177e+00]\n",
            "  ...\n",
            "  [-7.96496808e-01 -4.17855689e-01  5.28747110e-01 ...  5.25772172e-02\n",
            "    6.97881772e-02  1.04210097e-01]\n",
            "  [-5.38332409e-01 -1.42480329e-01  6.32012870e-01 ... -1.62666227e-02\n",
            "    9.44337277e-04  9.44337277e-04]\n",
            "  [-2.68694036e-01  2.87793670e-01  1.02212796e+00 ...  1.81552973e-02\n",
            "    1.81552973e-02 -6.78995026e-02]]\n",
            "\n",
            " [[ 2.01738870e-01  1.38632017e-01 -4.79264938e-03 ... -1.37593246e+00\n",
            "   -1.35298451e+00 -1.33003657e+00]\n",
            "  [ 4.54166283e-01  5.57432043e-01  7.00856710e-01 ... -1.43330233e+00\n",
            "   -1.40461739e+00 -1.34724753e+00]\n",
            "  [ 1.67040746e+00  1.59582663e+00  1.47534991e+00 ... -1.45051329e+00\n",
            "   -1.47919822e+00 -1.42182835e+00]\n",
            "  ...\n",
            "  [-9.28447501e-01 -9.05499555e-01 -8.30918728e-01 ... -4.58014595e-01\n",
            "   -3.60485822e-01 -3.66222809e-01]\n",
            "  [-7.73548862e-01 -7.67811875e-01 -7.04705022e-01 ...  1.21421057e-01\n",
            "   -2.05587182e-01 -5.67017342e-01]\n",
            "  [-3.49011849e-01 -3.49011849e-01 -3.66222809e-01 ...  1.15981564e+00\n",
            "    9.13125216e-01  2.76319697e-01]]]\n",
            "WARNING:tensorflow:From /usr/local/lib/python3.6/dist-packages/tensorflow/python/ops/resource_variable_ops.py:642: colocate_with (from tensorflow.python.framework.ops) is deprecated and will be removed in a future version.\n",
            "Instructions for updating:\n",
            "Colocations handled automatically by placer.\n",
            "Train on 2400 samples, validate on 600 samples\n",
            "WARNING:tensorflow:From /usr/local/lib/python3.6/dist-packages/tensorflow/python/ops/math_ops.py:3066: to_int32 (from tensorflow.python.ops.math_ops) is deprecated and will be removed in a future version.\n",
            "Instructions for updating:\n",
            "Use tf.cast instead.\n",
            "Epoch 1/10\n",
            " - 2s - loss: 0.5118 - acc: 0.8083 - val_loss: 0.5372 - val_acc: 0.7667\n",
            "Epoch 2/10\n",
            " - 1s - loss: 0.3263 - acc: 0.8704 - val_loss: 0.5589 - val_acc: 0.7617\n",
            "Epoch 3/10\n",
            " - 1s - loss: 0.2680 - acc: 0.8896 - val_loss: 0.6135 - val_acc: 0.7717\n",
            "Epoch 4/10\n",
            " - 1s - loss: 0.2571 - acc: 0.8946 - val_loss: 0.5826 - val_acc: 0.7683\n",
            "Epoch 5/10\n",
            " - 1s - loss: 0.2282 - acc: 0.9079 - val_loss: 0.6472 - val_acc: 0.7467\n",
            "Epoch 6/10\n",
            " - 1s - loss: 0.2039 - acc: 0.9167 - val_loss: 0.6398 - val_acc: 0.7533\n",
            "Epoch 7/10\n",
            " - 1s - loss: 0.1685 - acc: 0.9346 - val_loss: 0.6482 - val_acc: 0.7617\n",
            "Epoch 8/10\n",
            " - 1s - loss: 0.1547 - acc: 0.9429 - val_loss: 0.6945 - val_acc: 0.7450\n",
            "Epoch 9/10\n",
            " - 1s - loss: 0.1502 - acc: 0.9429 - val_loss: 0.7095 - val_acc: 0.7650\n",
            "Epoch 10/10\n",
            " - 1s - loss: 0.1282 - acc: 0.9538 - val_loss: 0.7098 - val_acc: 0.7583\n",
            " - 0s - loss: 0.7098 - acc: 0.7583\n",
            "Precision: 0.733\n",
            "Recall: 0.407\n",
            "F1-score: 0.523\n"
          ],
          "name": "stdout"
        },
        {
          "output_type": "stream",
          "text": [
            "/usr/local/lib/python3.6/dist-packages/ipykernel_launcher.py:16: DeprecationWarning: Calling np.sum(generator) is deprecated, and in the future will give a different result. Use np.sum(np.fromiter(generator)) or the python sum builtin instead.\n",
            "  app.launch_new_instance()\n",
            "/usr/local/lib/python3.6/dist-packages/ipykernel_launcher.py:17: DeprecationWarning: Calling np.sum(generator) is deprecated, and in the future will give a different result. Use np.sum(np.fromiter(generator)) or the python sum builtin instead.\n"
          ],
          "name": "stderr"
        }
      ]
    },
    {
      "metadata": {
        "id": "9U9Se7dsfv9P",
        "colab_type": "text"
      },
      "cell_type": "markdown",
      "source": [
        "# Bài 2: Phân loại mười lớp"
      ]
    },
    {
      "metadata": {
        "id": "cLYyjVEzf-6A",
        "colab_type": "text"
      },
      "cell_type": "markdown",
      "source": [
        "## Dữ liệu fashion MNIST\n",
        "\n",
        "Ta có thể đọc tập dữ liệu này bằng hàm `get_mnist_data()`:"
      ]
    },
    {
      "metadata": {
        "id": "jOMEH7P8enH1",
        "colab_type": "code",
        "outputId": "852e3673-50e7-4b6a-e9f6-38243a9d4ac6",
        "colab": {
          "base_uri": "https://localhost:8080/",
          "height": 33
        }
      },
      "cell_type": "code",
      "source": [
        "train_x, train_y, val_x, val_y, test_x, test_y = get_mnist_data()"
      ],
      "execution_count": 28,
      "outputs": [
        {
          "output_type": "stream",
          "text": [
            "Reading fashion MNIST data...\n"
          ],
          "name": "stdout"
        }
      ]
    },
    {
      "metadata": {
        "id": "23aegpJ3gOVJ",
        "colab_type": "text"
      },
      "cell_type": "markdown",
      "source": [
        "Tập dữ liệu này gồm các ảnh xám kích thước $28 \\times 28$. Có tất cả 50000 ảnh train, 10000 ảnh validation và 10000 ảnh test. Mỗi ảnh thuộc một trong 10 loại quần, áo, giày, túi xách, v.v. Tuy nhiên trong bài tập này ta chỉ lấy 2500 ảnh train, 500 ảnh valication và 500 ảnh test\n"
      ]
    },
    {
      "metadata": {
        "id": "F1pvh-JTgK2q",
        "colab_type": "code",
        "outputId": "f51d3a06-691e-4f34-beba-563739d42a9a",
        "colab": {
          "base_uri": "https://localhost:8080/",
          "height": 117
        }
      },
      "cell_type": "code",
      "source": [
        "print(train_x.shape)\n",
        "print(train_y.shape)\n",
        "print(val_x.shape)\n",
        "print(val_y.shape)\n",
        "print(test_x.shape)\n",
        "print(test_y.shape)"
      ],
      "execution_count": 29,
      "outputs": [
        {
          "output_type": "stream",
          "text": [
            "(2500, 784)\n",
            "(2500,)\n",
            "(500, 784)\n",
            "(500,)\n",
            "(500, 784)\n",
            "(500,)\n"
          ],
          "name": "stdout"
        }
      ]
    },
    {
      "metadata": {
        "id": "mE7g9Yt4gxDB",
        "colab_type": "code",
        "outputId": "2abf618a-1f8a-4960-e724-9fbc560d953c",
        "colab": {
          "base_uri": "https://localhost:8080/",
          "height": 269
        }
      },
      "cell_type": "code",
      "source": [
        "imgplot = plt.imshow(train_x[0].reshape(28,28))\n",
        "plt.show()"
      ],
      "execution_count": 30,
      "outputs": [
        {
          "output_type": "display_data",
          "data": {
            "image/png": "[encoded data removed]",
            "text/plain": [
              "<Figure size 432x288 with 1 Axes>"
            ]
          },
          "metadata": {
            "tags": []
          }
        }
      ]
    },
    {
      "metadata": {
        "id": "lKyk9vYKhLik",
        "colab_type": "code",
        "outputId": "103b3c01-3cc4-4c99-eb47-ebeb75f50e64",
        "colab": {
          "base_uri": "https://localhost:8080/",
          "height": 269
        }
      },
      "cell_type": "code",
      "source": [
        "imgplot = plt.imshow(train_x[100].reshape(28,28))\n",
        "plt.show()"
      ],
      "execution_count": 31,
      "outputs": [
        {
          "output_type": "display_data",
          "data": {
            "image/png": "[encoded data removed]",
            "text/plain": [
              "<Figure size 432x288 with 1 Axes>"
            ]
          },
          "metadata": {
            "tags": []
          }
        }
      ]
    },
    {
      "metadata": {
        "id": "eRUHcjC2hkEv",
        "colab_type": "text"
      },
      "cell_type": "markdown",
      "source": [
        "Lưu ý là giá trị của `train_y` và `test_y` sẽ có thể là 0, 1,.., 9 thay vì 0 và 1 như bài 1. Ngoài ra, dữ liệu này khi được đọc lên đã có dạng tensor 2D ($3500 \\times 784$)."
      ]
    },
    {
      "metadata": {
        "id": "1_9FgB3Jh8iV",
        "colab_type": "text"
      },
      "cell_type": "markdown",
      "source": [
        "## Class SoftmaxClassifier\n",
        "\n",
        "Class này thừa kế lại một số thuộc tính từ class LogisticClassifier như `__init__`, `w`. Riêng với các hàm `feed_forward`, `compute_loss` và `get_grad` ta cần phải hiện thực lại."
      ]
    },
    {
      "metadata": {
        "id": "jKsh9eo5hOMq",
        "colab_type": "code",
        "colab": {}
      },
      "cell_type": "code",
      "source": [
        "# GRADED FUNCTION\n",
        "class SoftmaxClassifier(LogisticClassifier):\n",
        "    def __init__(self, w_shape):\n",
        "        \"\"\"__init__\n",
        "        \n",
        "        :param w_shape: create w with shape w_shape using normal distribution\n",
        "        \"\"\"\n",
        "        super(SoftmaxClassifier, self).__init__(w_shape)\n",
        "\n",
        "\n",
        "    def softmax(self, x):\n",
        "        \"\"\"TODO 20: softmax\n",
        "\n",
        "        :param x: input\n",
        "        \"\"\"\n",
        "        result = None\n",
        "        ### START CODE HERE ### (≈4 lines)\n",
        "        e_x = np.exp(x-np.max(x,axis=1,keepdims=True))\n",
        "        result = e_x/e_x.sum(axis=1,keepdims=True)\n",
        "        ### END CODE HERE ###\n",
        "        return result\n",
        "\n",
        "\n",
        "    def feed_forward(self, x):\n",
        "        \"\"\"TODO 19: feed_forward\n",
        "        This function compute the output of your softmax regression model\n",
        "        \n",
        "        :param x: input\n",
        "        \"\"\"\n",
        "        result = None\n",
        "        ### START CODE HERE ### (≈2 lines)\n",
        "        result = x.dot(self.w)\n",
        "        result = self.softmax(result)\n",
        "        ### END CODE HERE ###\n",
        "        return result\n",
        "\n",
        "\n",
        "    def compute_loss(self, y, y_hat):\n",
        "        \"\"\"TODO 21: compute_loss\n",
        "        Compute the loss using y (label) and y_hat (predicted class)\n",
        "\n",
        "        :param y:  the label, the actual class of the samples\n",
        "        :param y_hat: the class probabilities of all samples in our data\n",
        "        \"\"\"\n",
        "        loss = 0\n",
        "        ### START CODE HERE ### (≈3 lines)\n",
        "        y=y.argmax(axis=1)\n",
        "        id0=range(y_hat.shape[0])\n",
        "        loss=-np.mean(np.log(y_hat[id0,y]))\n",
        "        ### END CODE HERE ###\n",
        "        return loss\n",
        "\n",
        "\n",
        "    def get_grad(self, x, y, y_hat):\n",
        "        \"\"\"TODO 22: get_grad\n",
        "        Compute and return the gradient of w\n",
        "\n",
        "        :param loss: computed loss between y_hat and y in the train dataset\n",
        "        :param y_hat: predicted y\n",
        "        \"\"\" \n",
        "        w_grad = None\n",
        "        ### START CODE HERE ### (≈2 lines)\n",
        "        id0=range(x.shape[0])\n",
        "        y_hat[id0,y.argmax(axis=1)]-=1\n",
        "        w_grad=x.T.dot(y_hat)/x.shape[0]\n",
        "        ### END CODE HERE ###\n",
        "        return w_grad\n",
        "   \n",
        "\n",
        "    def numerical_check(self, x, y, grad):\n",
        "        i = 3\n",
        "        j = 0\n",
        "        eps = 0.000005\n",
        "        w_test0 = np.copy(self.w)\n",
        "        w_test1 = np.copy(self.w)\n",
        "        w_test0[i,j] = w_test0[i,j] - eps\n",
        "        w_test1[i,j] = w_test1[i,j] + eps\n",
        "\n",
        "        y_hat0 = np.dot(x, w_test0)\n",
        "        y_hat0 = self.softmax(y_hat0)\n",
        "        loss0 = self.compute_loss(y, y_hat0) \n",
        "\n",
        "        y_hat1 = np.dot(x, w_test1)\n",
        "        y_hat1 = self.softmax(y_hat1)\n",
        "        loss1 = self.compute_loss(y, y_hat1) \n",
        "\n",
        "        numerical_grad = (loss1 - loss0)/(2*eps)\n",
        "        print(numerical_grad)\n",
        "        print(grad[i,j])       \n",
        "### SANITY CHECK\n",
        "eps = 0.001        \n",
        "classifer = SoftmaxClassifier((3,1))\n",
        "classifer.w = np.arange(3*1).reshape(3,1)\n",
        "x = np.ones(2*3).reshape(2,3)/2\n",
        "y = np.array([[1],[1]])\n",
        "y_hat = classifer.feed_forward(x)\n",
        "assert sum(y_hat) == 2, \"Wrong\"\n",
        "loss = classifer.compute_loss(y, y_hat)\n",
        "assert loss==0, \"Wrong\"\n",
        "grad = classifer.get_grad(x, y, y_hat)\n",
        "#assert sum(grad)==1.5, \"Wrong\"\n",
        "updateweight = classifer.update_weight(grad, 0.1)\n",
        "#assert sum(updateweight) - 2.849 < eps, \"Wrong\"\n",
        "updatemomen = classifer.update_weight_momentum(grad, 0.1, 0.1, 0.1)\n",
        "#assert sum(updatemomen) - 2.67 < eps, \"Wrong\""
      ],
      "execution_count": 0,
      "outputs": []
    },
    {
      "metadata": {
        "id": "9fRHnz3FizC0",
        "colab_type": "text"
      },
      "cell_type": "markdown",
      "source": [
        "## Chuẩn hóa dữ liệu\n",
        "Trong bước này, ta sẽ chuẩn hóa dữ liệu `train_x`, `val_x` và `test_x` theo cách (b) đã đề cập trong phần trước. Tuy nhiên, do tập dữ liệu MNIST khi load đã được đặt dưới dạng tensor 2D, nên trong công thức tính tổng chỉ còn $m$ và $R=784$."
      ]
    },
    {
      "metadata": {
        "id": "IGDUBrGmjand",
        "colab_type": "text"
      },
      "cell_type": "markdown",
      "source": [
        "#### TODO 12: normalize"
      ]
    },
    {
      "metadata": {
        "id": "L4YR1SEBlBAo",
        "colab_type": "text"
      },
      "cell_type": "markdown",
      "source": [
        ""
      ]
    },
    {
      "metadata": {
        "id": "BfgkYMdLivKW",
        "colab_type": "code",
        "colab": {}
      },
      "cell_type": "code",
      "source": [
        "# GRADED FUNCTION: normalize\n",
        "def normalize(train_x, val_x, test_x):\n",
        "    \"\"\"normalize\n",
        "    This function computes train mean and standard deviation on all pixels then applying data scaling on train_x, val_x and test_x using these computed values\n",
        "    Note that in this classification problem, the data is already flatten into a shape of (num_samples, image_width*image_height)\n",
        "\n",
        "    :param train_x: train images, shape=(num_train, image_height*image_width)\n",
        "    :param val_x: validation images, shape=(num_val, image_height*image_width)\n",
        "    :param test_x: test images, shape=(num_test, image_height*image_width)\n",
        "    \"\"\"\n",
        "    # train_mean and train_std should have the shape of (1, 1)\n",
        "    ### START CODE HERE ### (≈5 lines)\n",
        "    train_mean=np.mean(train_x).reshape(1,1)\n",
        "    train_std=np.mean((train_x-train_mean)**2).reshape(1,1)**0.5\n",
        "    train_x=(train_x-train_mean)/train_std\n",
        "    test_x=(test_x-train_mean)/train_std\n",
        "    val_x=(val_x-train_mean)/train_std\n",
        "    ### END CODE HERE ###\n",
        "    return train_x, val_x, test_x\n",
        "\n",
        "### SANITY CHECK\n",
        "train_x = np.arange(2*4).reshape(2, 4)\n",
        "x, y, z = normalize(train_x, train_x, train_x)\n",
        "assert np.sum((x, y, z)) == 0, \"Wrong\""
      ],
      "execution_count": 0,
      "outputs": []
    },
    {
      "metadata": {
        "id": "RlidH1M6jjOe",
        "colab_type": "text"
      },
      "cell_type": "markdown",
      "source": [
        "## Tiền xử lý vector label thành dạng one-hot\n",
        "\n",
        "Các biến `train_y`, `val_y`, `test_y` lúc này là một vector chứa các giá trị 0, 1,.., 9; nhưng để tính hàm lỗi của softmax regression, ta nên chuyển chúng về dạng ma trận one-hot (one-of-k). Giả sử ta có vector label có 6 phần tử, mỗi phần tử nằm trong khoảng từ 0 đến 4:\n",
        "\n",
        "\\begin{equation}\n",
        "\ty = [3,4,0,0,2,1]^T \\tag{17}\n",
        "\\end{equation}\n",
        "\n",
        "Ta sẽ có biến đổi one-hot tương ứng của nó là:\n",
        "\\begin{equation}\n",
        "y = \\begin{bmatrix}\n",
        "\t0 & 0 & 0 & \\color{red}1 & 0\\\\\n",
        "\t0 & 0 & 0 & 0 & \\color{red}1\\\\\n",
        "\t\\color{red}1 & 0 & 0 & 0 & 0\\\\\n",
        "\t\\color{red}1 & 0 & 0 & 0 & 0\\\\\n",
        "\t0 & 0 & \\color{red}1 & 0 & 0\\\\\n",
        "\t0 & \\color{red}1 & 0 & 0 & 0\n",
        "\\end{bmatrix} \\tag{18}\n",
        "\\end{equation}\n",
        "\n",
        "Label thứ nhất có giá trị là 3, vì vậy nên trong hàng thứ nhất ở ma trận trên cột 3 có giá trị 1, tất cả các cột khác trong hàng này là 0. Tương tự cho hàng thứ 2, label là 4, nên cột 4 trong hàng 2 có giá trị là 1.\n",
        "\n",
        "\n",
        "Để việc biến đổi giá trị của mảng sang dạng one-hot được nhanh chóng, ta nên sử dụng index array hay index vector trên ma trận đơn vị. Tham khảo thêm ở đây: [Numpy basic indexing - Index arrays](https://docs.scipy.org/doc/numpy-1.13.0/user/basics.indexing.html#index-arrays)."
      ]
    },
    {
      "metadata": {
        "id": "fGlHfM_lkgVT",
        "colab_type": "text"
      },
      "cell_type": "markdown",
      "source": [
        "## Tính các giá trị phân loại\n",
        "\n",
        "Để tính các giá trị phân loại trong bài này, ta hiện thực các công thức sau trong hàm `feed_forward` và `softmax`:\n",
        "\n",
        "\\begin{equation}\n",
        "z = xw \\space, \\quad x \\in R^{m\\times D}, w \\in R^{D \\times K} \\tag{19}\n",
        "\\end{equation}\n",
        "\n",
        "Trong đó, $m$ là số lượng mẫu dữ liệu, $D$ là số lượng đặc trưng của dữ liệu đầu vào (785 sau khi thêm 1 vào cuối), $K$ là số lượng nhãn trong bài toán ta đang làm (10).\n",
        "\n",
        "\\begin{equation}\n",
        "z_{max} = [max(z^{(0)}), max(z^{(1)}),.., max(z^{(m-1)})]^T  \\tag{20}\n",
        "\\end{equation}\n",
        "\n",
        "Tại đây, $z_{max}$ là một vector cột (kích thước $m \\times 1$).\n",
        "\n",
        "\\begin{equation}\n",
        "z' = e^{z - z_{max}} \\tag{21}\n",
        "\\end{equation}\n",
        "\n",
        "Trong biểu thức trên, ta sẽ dùng cột thứ nhất của $z$ trừ cho $z_{max}$, cột thứ 2 của $z$ trừ cho $z_{max}$, v.v. Sau đó, ta tính lũy thừa cho từng phần tử trên hiệu đã tính. Kết quả tại bước này là một ma trận $z'$ có kích thước $m \\times K$.\n",
        "\n",
        "Kế tiếp, ta cần tính tổng sau:\n",
        "\n",
        "\\begin{equation}\n",
        "s = \\sum^{K-1}_{k=0}z'^{(i)}_{k} ,\\quad 0\\le i \\le m-1\\tag{22}\n",
        "\\end{equation}\n",
        "\n",
        "Như vậy, $s$ sẽ là vector chứa tổng từng hàng của ma trận $z'$. $s$ có kích thước $m \\times 1$. Sau cùng, ta có thể tính softmax bằng cách lấy mỗi phần tử trong $z'$ chia cho tổng hàng tương ứng:\n",
        "\n",
        "\\begin{equation}\n",
        "\\hat{y}^{(i)}_{k} = \\frac{z'^{(i)}_{k}}{s^{(i)}}, \\quad 0\\le i \\le m-1, 0\\le k \\le K-1 \\tag{23}\n",
        "\\end{equation}\n",
        "\n",
        "Sau khi tổng hợp lại toàn bộ các phần tử $i, k$ của $\\hat{y}$, ta sẽ có ma trận có kích thước $m \\times K$. Trong ma trận này, mỗi hàng thứ $i$ biểu diễn vector xác suất lớp của mẫu ảnh thứ $i$. Vì vậy, tổng của mỗi hàng luôn bằng 1."
      ]
    },
    {
      "metadata": {
        "id": "Yy_5nMf7mOTW",
        "colab_type": "text"
      },
      "cell_type": "markdown",
      "source": [
        "#### TODO 13: feed_forward\n",
        "\n",
        "Các bạn hoàn thành hàm `feed_forward` ở phần class [SoftmaxClassifier](https://colab.research.google.com/drive/1_DcdsXqPkAM3UB4GCHZHf_JlJRRRCA9T#scrollTo=jKsh9eo5hOMq&line=77&uniqifier=1)"
      ]
    },
    {
      "metadata": {
        "id": "2Oz_NZPmmp4V",
        "colab_type": "text"
      },
      "cell_type": "markdown",
      "source": [
        "#### TODO 14: softmax\n",
        "\n",
        "Các bạn hoàn thành hàm `softmax` ở phần class [SoftmaxClassifier](https://colab.research.google.com/drive/1_DcdsXqPkAM3UB4GCHZHf_JlJRRRCA9T#scrollTo=jKsh9eo5hOMq&line=77&uniqifier=1)"
      ]
    },
    {
      "metadata": {
        "id": "8wm4-xOlnVMZ",
        "colab_type": "text"
      },
      "cell_type": "markdown",
      "source": [
        "## Tính độ lỗi\n",
        "Công thức tính độ lỗi category như sau:\n",
        "\n",
        "\\begin{equation}\n",
        "J(w) = -\\frac{1}{m}\\sum_{i=0}^{m-1}\\sum_{k=0}^{K-1} y^{(i)}_k \\log\\hat{y}^{(i)}_k \\tag{24}\n",
        "\\end{equation}\n",
        "\n",
        "Trong đó:\n",
        "- $y^{(i)}_k$ là phần tử hàng $i$ cột $k$ trong ma trận nhãn one-hot $y$ (đã đề cập trong phần trước).\n",
        "- $\\hat{y}^{(i)} \\in (0, 1)$ là hàng $i$ cột $k$ trong ma trận $\\hat{y}$."
      ]
    },
    {
      "metadata": {
        "id": "SSvZIuG-oUwn",
        "colab_type": "text"
      },
      "cell_type": "markdown",
      "source": [
        "#### TODO 15: compute_loss\n",
        "Các bạn hoàn thành hàm `compute_loss` ở phần class [SoftmaxClassifier](https://colab.research.google.com/drive/1_DcdsXqPkAM3UB4GCHZHf_JlJRRRCA9T#scrollTo=jKsh9eo5hOMq&line=77&uniqifier=1)"
      ]
    },
    {
      "metadata": {
        "id": "x-NMfsp0o0Ja",
        "colab_type": "text"
      },
      "cell_type": "markdown",
      "source": [
        "## Tính đạo hàm\n",
        "Công thức tính đạo hàm theo từng tham số $w_{jk}$ được biểu diễn như sau:\n",
        "\n",
        "\\begin{equation}\n",
        "\\frac{\\partial  J(w_{jk})}{\\partial w_{jk}} = \\frac{1}{m}\\sum_{i=0}^{m-1} x^{(i)}_j (\\hat{y}^{(i)}_k - y^{(i)}_k) \\tag{25}\n",
        "\\end{equation}\n",
        "\n",
        "Với $0 \\le j \\le D-1$. Viết lại dưới dạng ma trận ta có được:\n",
        "\n",
        "\\begin{equation}\n",
        "\\frac{\\partial  J(w)}{\\partial w} = \\frac{1}{m}x^T(\\hat{y} - y) \\tag{26}\n",
        "\\end{equation}"
      ]
    },
    {
      "metadata": {
        "id": "gHzTgKgeqLMM",
        "colab_type": "text"
      },
      "cell_type": "markdown",
      "source": [
        "#### TODO 16: get_grad\n",
        "Các bạn hoàn thành hàm `get_grad` ở phần class [SoftmaxClassifier](https://colab.research.google.com/drive/1_DcdsXqPkAM3UB4GCHZHf_JlJRRRCA9T#scrollTo=jKsh9eo5hOMq&line=77&uniqifier=1)\n"
      ]
    },
    {
      "metadata": {
        "id": "bysiSaSEqiae",
        "colab_type": "text"
      },
      "cell_type": "markdown",
      "source": [
        "## Đề xuất điều kiện dùng vòng lặp huấn luyện\n",
        "\n",
        "Trong bài này, ngoài việc sử dụng `train_x`, `train_y` để huấn luyện, file mẫu còn cung cấp cho các bạn các biến `val_x`, `val_y` để thực hiện việc validation. Toàn bộ các giá trị lỗi validation được lưu trong biến `all_val_loss`. Trong phần này, nhiệm vụ của các bạn là đề xuất ra điều kiện dừng khác (ngoài việc `e` đạt `num_epoch`) trong quá trình huấn luyện. Dựa vào độ lỗi validation, bạn có thể sử dụng các tiêu chí mình tự đề ra để tránh việc quá trình huấn luyện bị overfitting"
      ]
    },
    {
      "metadata": {
        "id": "i1qjvU6MrE3G",
        "colab_type": "text"
      },
      "cell_type": "markdown",
      "source": [
        "#### TODO 17: is_stop_training\n",
        "\n",
        "Các bạn hoàn thành hàm `is_stop_training` nhận vào mảng `all_val_loss` và trả về giá trị boolean True hoặc False quyết định có dừng việc huấn luyện không. Nếu loss trên tập validation tăng hơn n (patience) lần liên tiếp thì trả về True, ngược lại thì False"
      ]
    },
    {
      "metadata": {
        "id": "_Xc5fXhhkfUC",
        "colab_type": "code",
        "colab": {}
      },
      "cell_type": "code",
      "source": [
        "# GRADED FUNCTION: is_stop_training\n",
        "def is_stop_training(all_val_loss, patience=5):\n",
        "    \"\"\"is_stop_training\n",
        "    Check whether training need to be stopped\n",
        "\n",
        "    :param all_val_loss: list of all validation loss values during training\n",
        "    \"\"\"\n",
        "    is_stopped = False\n",
        "    ### START CODE HERE ###\n",
        "    l =len(all_val_loss)\n",
        "    min_val = all_val_loss[0]\n",
        "    for i in range(l):\n",
        "      if all_val_loss[i]<min_val: \n",
        "        min_val=all_val_loss[i]\n",
        "      if all_val_loss[i]>patience*min_val:\n",
        "          is_stopped= True\n",
        "          break\n",
        "    ### END CODE HERE ###\n",
        "    return is_stopped\n",
        "\n",
        "### SANITY CHECK\n",
        "assert is_stop_training([1,2,3,4,5,6]) == True, \"Wrong\"\n",
        "assert is_stop_training([1,2,3])==False, \"Wrong\""
      ],
      "execution_count": 0,
      "outputs": []
    },
    {
      "metadata": {
        "id": "SaMfOmffvslM",
        "colab_type": "text"
      },
      "cell_type": "markdown",
      "source": [
        "## Đánh giá mô hình trên dữ liệu test\n",
        "\n",
        "Để đánh giá mô hình phân loại nhiều lớp, ta cần sử dụng một khái niệm gọi là confusion matrix. Giả sử ta có bài toán phân loại 3 lớp, thì confusion matrix có dạng sau:\n",
        "\n",
        "<table>\n",
        "    <th>\n",
        "        <td>Lớp 1</td>\n",
        "        <td>Lớp 1</td>\n",
        "        <td>Lớp 1</td>\n",
        "    </th>\n",
        "    <tr>\n",
        "        <td>Lớp 1</td>\n",
        "        <td>$N_{11}$</td>\n",
        "        <td>$N_{12}$</td>\n",
        "        <td>$N_{13}$</td>\n",
        "    </tr>\n",
        "    <tr>\n",
        "        <td>Lớp 2</td>\n",
        "        <td>$N_{21}$</td>\n",
        "        <td>$N_{22}$</td>\n",
        "        <td>$N_{23}$</td>\n",
        "    </tr>\n",
        "    <tr>\n",
        "        <td>Lớp 3</td>\n",
        "        <td>$N_{31}$</td>\n",
        "        <td>$N_{32}$</td>\n",
        "        <td>$N_{33}$</td>\n",
        "    </tr>\n",
        "</table>\n",
        "\n",
        "Trong đó, $N_{kl}$ là tổng số mẫu thực chất thuộc lớp $k$ và bộ phân loại phân loại thành lớp $l$. Bộ phân loại càng tốt thì các ô trên đường chéo chính sẽ càng cao hơn so với các ô xung quanh. Khi tiến hành kiểm thử, người ra đề đã tính được confusion matrix như sau:\n",
        "\n",
        "<table>\n",
        "    <tr>\n",
        "        <td>0.93</td>\n",
        "        <td>0</td>\n",
        "        <td>0</td>\n",
        "        <td>0.02</td>\n",
        "        <td>0</td>\n",
        "        <td>0</td>\n",
        "        <td>0.05</td>\n",
        "        <td>0</td>\n",
        "        <td>0</td>\n",
        "        <td>0</td>\n",
        "    </tr>\n",
        "    <tr>\n",
        "        <td>0</td>\n",
        "        <td>0.95</td>\n",
        "        <td>0</td>\n",
        "        <td>0.05</td>\n",
        "        <td>0</td>\n",
        "        <td>0</td>\n",
        "        <td>0</td>\n",
        "        <td>0</td>\n",
        "        <td>0</td>\n",
        "        <td>0</td>\n",
        "    </tr>\n",
        "    <tr>\n",
        "        <td>0.02</td>\n",
        "        <td>0.02</td>\n",
        "        <td>0.59</td>\n",
        "        <td>0.02</td>\n",
        "        <td>0.22</td>\n",
        "        <td>0</td>\n",
        "        <td>0.13</td>\n",
        "        <td>0</td>\n",
        "        <td>0</td>\n",
        "        <td>0</td>\n",
        "    </tr>\n",
        "    <tr>\n",
        "        <td>0.05</td>\n",
        "        <td>0.03</td>\n",
        "        <td>0.03</td>\n",
        "        <td>0.82</td>\n",
        "        <td>0.05</td>\n",
        "        <td>0</td>\n",
        "        <td>0.03</td>\n",
        "        <td>0</td>\n",
        "        <td>0</td>\n",
        "        <td>0</td>\n",
        "    </tr>\n",
        "    <tr>\n",
        "        <td>0</td>\n",
        "        <td>0</td>\n",
        "        <td>0.07</td>\n",
        "        <td>0.05</td>\n",
        "        <td>0.77</td>\n",
        "        <td>0</td>\n",
        "        <td>0.12</td>\n",
        "        <td>0</td>\n",
        "        <td>0</td>\n",
        "        <td>0</td>\n",
        "    </tr>\n",
        "    <tr>\n",
        "        <td>0</td>\n",
        "        <td>0</td>\n",
        "        <td>0</td>\n",
        "        <td>0</td>\n",
        "        <td>0</td>\n",
        "        <td>0.89</td>\n",
        "        <td>0</td>\n",
        "        <td>0.09</td>\n",
        "        <td>0.02</td>\n",
        "        <td>0</td>\n",
        "    </tr>\n",
        "    <tr>\n",
        "        <td>0.21</td>\n",
        "        <td>0</td>\n",
        "        <td>0.08</td>\n",
        "        <td>0.02</td>\n",
        "        <td>0.17</td>\n",
        "        <td>0</td>\n",
        "        <td>0.51</td>\n",
        "        <td>0</td>\n",
        "        <td>0.02</td>\n",
        "        <td>0</td>\n",
        "    </tr>\n",
        "    <tr>\n",
        "        <td>0</td>\n",
        "        <td>0</td>\n",
        "        <td>0</td>\n",
        "        <td>0</td>\n",
        "        <td>0</td>\n",
        "        <td>0.04</td>\n",
        "        <td>0</td>\n",
        "        <td>0.86</td>\n",
        "        <td>0</td>\n",
        "        <td>0.1</td>\n",
        "    </tr>\n",
        "    <tr>\n",
        "        <td>0</td>\n",
        "        <td>0</td>\n",
        "        <td>0</td>\n",
        "        <td>0.02</td>\n",
        "        <td>0</td>\n",
        "        <td>0.04</td>\n",
        "        <td>0</td>\n",
        "        <td>0.02</td>\n",
        "        <td>0.93</td>\n",
        "        <td>0</td>\n",
        "    </tr>\n",
        "    <tr>\n",
        "        <td>0</td>\n",
        "        <td>0</td>\n",
        "        <td>0</td>\n",
        "        <td>0</td>\n",
        "        <td>0</td>\n",
        "        <td>0.02</td>\n",
        "        <td>0</td>\n",
        "        <td>0</td>\n",
        "        <td>0</td>\n",
        "        <td>0.98</td>\n",
        "    </tr>\n",
        "</table>\n",
        "\n",
        "Bạn cần đạt được kết quả tương tự hoặc tốt hơn sau khi hoàn tất bài tập 2 này."
      ]
    },
    {
      "metadata": {
        "id": "jcf1mHx80syW",
        "colab_type": "text"
      },
      "cell_type": "markdown",
      "source": [
        "#### TODO 18: softmax_test"
      ]
    },
    {
      "metadata": {
        "id": "w7todI-yvOCS",
        "colab_type": "code",
        "colab": {
          "base_uri": "https://localhost:8080/",
          "height": 33
        },
        "outputId": "4d8d8c9a-92df-43c2-839e-07bc4af32027"
      },
      "cell_type": "code",
      "source": [
        "# GRADED FUNCTION: softmax_test\n",
        "def softmax_test(y_hat, test_y):\n",
        "    \"\"\"test\n",
        "    Compute the confusion matrix based on labels and predicted values \n",
        "\n",
        "    :param classifier: the trained classifier\n",
        "    :param y_hat: predicted probabilites, output of classifier.feed_forward\n",
        "    :param test_y: test labels\n",
        "    \"\"\"\n",
        "\n",
        "    y_hat = np.argmax(y_hat, axis=1)\n",
        "    test_y = np.argmax(test_y, axis=1)\n",
        "    confusion_mat = np.zeros((10,10))\n",
        "    ### START CODE HERE ###\n",
        "    for i in range(test_y.shape[0]):\n",
        "      confusion_mat[test_y[i],y_hat[i]]+=1\n",
        "    ### END CODE HERE ###\n",
        "    return confusion_mat/confusion_mat.sum(axis=1,keepdims=True)\n",
        "\n",
        "### SANITY CHECK\n",
        "y_hat = np.eye(20, 10)\n",
        "test_y = y_hat > 0.5\n",
        "assert np.trace(softmax_test(y_hat, test_y)) == 10, \"Wrong\"\n",
        "print(np.argmax(test_y,axis=1))"
      ],
      "execution_count": 64,
      "outputs": [
        {
          "output_type": "stream",
          "text": [
            "[0 1 2 3 4 5 6 7 8 9 0 0 0 0 0 0 0 0 0 0]\n"
          ],
          "name": "stdout"
        }
      ]
    },
    {
      "metadata": {
        "id": "zNI8oPR0FOYE",
        "colab_type": "code",
        "colab": {
          "base_uri": "https://localhost:8080/",
          "height": 184
        },
        "outputId": "7a17bf53-d464-48c3-e395-92a496afbfa6"
      },
      "cell_type": "code",
      "source": [
        "print(softmax_test(y_hat, test_y))"
      ],
      "execution_count": 65,
      "outputs": [
        {
          "output_type": "stream",
          "text": [
            "[[1. 0. 0. 0. 0. 0. 0. 0. 0. 0.]\n",
            " [0. 1. 0. 0. 0. 0. 0. 0. 0. 0.]\n",
            " [0. 0. 1. 0. 0. 0. 0. 0. 0. 0.]\n",
            " [0. 0. 0. 1. 0. 0. 0. 0. 0. 0.]\n",
            " [0. 0. 0. 0. 1. 0. 0. 0. 0. 0.]\n",
            " [0. 0. 0. 0. 0. 1. 0. 0. 0. 0.]\n",
            " [0. 0. 0. 0. 0. 0. 1. 0. 0. 0.]\n",
            " [0. 0. 0. 0. 0. 0. 0. 1. 0. 0.]\n",
            " [0. 0. 0. 0. 0. 0. 0. 0. 1. 0.]\n",
            " [0. 0. 0. 0. 0. 0. 0. 0. 0. 1.]]\n"
          ],
          "name": "stdout"
        }
      ]
    },
    {
      "metadata": {
        "id": "VpXPqYoQzOod",
        "colab_type": "text"
      },
      "cell_type": "markdown",
      "source": [
        "## Vòng lặp huấn luyện"
      ]
    },
    {
      "metadata": {
        "id": "Kk6MG4qp0LYg",
        "colab_type": "code",
        "colab": {}
      },
      "cell_type": "code",
      "source": [
        "def plot_softmax_loss(train_loss, val_loss):\n",
        "    plt.figure(1)\n",
        "    plt.clf()\n",
        "    plt.plot(train_loss, color='b')\n",
        "    plt.plot(val_loss, color='g')\n",
        "\n",
        "\n",
        "def draw_weight(w):\n",
        "    label_names = ['T-shirt', 'Trouser', 'Pullover', 'Dress', 'Coat', 'Sandal', 'Shirt', 'Sneaker', 'Bag', 'Ankle boot']\n",
        "    plt.figure(2, figsize=(8, 6))\n",
        "    plt.clf()\n",
        "    w = w[0:(28*28),:].reshape(28, 28, 10)\n",
        "    for i in range(10):\n",
        "        ax = plt.subplot(3, 4, i+1)\n",
        "        plt.imshow(w[:,:,i], interpolation='nearest')\n",
        "        plt.axis('off')\n",
        "        ax.set_title(label_names[i])"
      ],
      "execution_count": 0,
      "outputs": []
    },
    {
      "metadata": {
        "id": "bvi8LlauvQvr",
        "colab_type": "code",
        "outputId": "d4df44e6-f364-4a28-9af2-d2c9cf20d00f",
        "colab": {
          "base_uri": "https://localhost:8080/",
          "height": 876
        }
      },
      "cell_type": "code",
      "source": [
        "#@title Training { display-mode: \"both\" }\n",
        "num_epoch = 10000 #@param {type:\"integer\"}\n",
        "learning_rate = 0.01 #@param {type:\"number\"}\n",
        "momentum_rate = 0.9 #@param {type:\"number\"}\n",
        "epochs_to_draw = 100 #@param {type:\"integer\"}\n",
        "update_weight_method = \"normal\" #@param [\"normal\", \"momentum\"]\n",
        "\n",
        "np.random.seed(2018)\n",
        "\n",
        "# Load data from file\n",
        "# Make sure that fashion-mnist/*.gz files is in data/\n",
        "train_x, train_y, val_x, val_y, test_x, test_y = get_mnist_data()\n",
        "num_train = train_x.shape[0]\n",
        "num_val = val_x.shape[0]\n",
        "num_test = test_x.shape[0]  \n",
        "\n",
        "# Convert label lists to one-hot (one-of-k) encoding\n",
        "train_y = create_one_hot(train_y)\n",
        "print(train_y)\n",
        "val_y = create_one_hot(val_y)\n",
        "test_y = create_one_hot(test_y)\n",
        "\n",
        "# Normalize our data\n",
        "train_x, val_x, test_x = normalize(train_x, val_x, test_x)\n",
        "\n",
        "# Pad 1 as the last feature of train_x and test_x\n",
        "train_x = add_one(train_x) \n",
        "val_x = add_one(val_x)\n",
        "test_x = add_one(test_x)\n",
        "\n",
        "# Create classifier\n",
        "num_feature = train_x.shape[1]\n",
        "dec_classifier = SoftmaxClassifier((num_feature, 10))\n",
        "momentum = np.zeros_like(dec_classifier.w)\n",
        "\n",
        "# Define hyper-parameters and train-related parameters\n",
        "all_train_loss = []\n",
        "all_val_loss = []\n",
        "plt.ion()\n",
        "\n",
        "for e in range(num_epoch):    \n",
        "    train_y_hat = dec_classifier.feed_forward(train_x)\n",
        "    val_y_hat = dec_classifier.feed_forward(val_x)\n",
        "\n",
        "    train_loss = dec_classifier.compute_loss(train_y, train_y_hat)\n",
        "    val_loss = dec_classifier.compute_loss(val_y, val_y_hat)\n",
        "\n",
        "    grad = dec_classifier.get_grad(train_x, train_y, train_y_hat)\n",
        "\n",
        "    # dec_classifier.numerical_check(train_x, train_y, grad)\n",
        "    # Updating weight: choose either normal SGD or SGD with momentum\n",
        "    if update_weight_method == \"normal\":\n",
        "        dec_classifier.update_weight(grad, learning_rate)\n",
        "    else:\n",
        "        dec_classifier.update_weight_momentum(grad, learning_rate, momentum, momentum_rate)\n",
        "\n",
        "    all_train_loss.append(train_loss) \n",
        "    all_val_loss.append(val_loss)\n",
        "    \n",
        "    if is_stop_training(all_val_loss):\n",
        "        break\n",
        "\n",
        "    if (e % epochs_to_draw == epochs_to_draw-1):\n",
        "        from IPython.display import clear_output\n",
        "        clear_output(wait=True)\n",
        "        plot_softmax_loss(all_train_loss, all_val_loss)\n",
        "        draw_weight(dec_classifier.w)\n",
        "        plt.show()\n",
        "        print(\"Epoch %d: train loss: %.5f || val loss: %.5f\" % (e+1, train_loss, val_loss))\n",
        "\n",
        "y_hat = dec_classifier.feed_forward(test_x)\n",
        "np.set_printoptions(precision=2)\n",
        "confusion_mat = softmax_test(y_hat, test_y)\n",
        "print('Confusion matrix:')\n",
        "print(confusion_mat)\n",
        "print('Diagonal values:')\n",
        "print(confusion_mat.flatten()[0::11])"
      ],
      "execution_count": 67,
      "outputs": [
        {
          "output_type": "display_data",
          "data": {
            "image/png": "[encoded data removed]",
            "text/plain": [
              "<Figure size 432x288 with 1 Axes>"
            ]
          },
          "metadata": {
            "tags": []
          }
        },
        {
          "output_type": "display_data",
          "data": {
            "image/png": "[encoded data removed]",
            "text/plain": [
              "<Figure size 576x432 with 10 Axes>"
            ]
          },
          "metadata": {
            "tags": []
          }
        },
        {
          "output_type": "stream",
          "text": [
            "Epoch 10000: train loss: 0.17973 || val loss: 0.58691\n",
            "Confusion matrix:\n",
            "[[0.89 0.02 0.   0.02 0.   0.   0.05 0.   0.02 0.  ]\n",
            " [0.02 0.97 0.   0.02 0.   0.   0.   0.   0.   0.  ]\n",
            " [0.02 0.04 0.61 0.   0.22 0.   0.11 0.   0.   0.  ]\n",
            " [0.05 0.03 0.03 0.85 0.03 0.   0.03 0.   0.   0.  ]\n",
            " [0.   0.   0.09 0.05 0.72 0.   0.14 0.   0.   0.  ]\n",
            " [0.   0.   0.   0.   0.   0.91 0.   0.08 0.   0.02]\n",
            " [0.19 0.   0.08 0.02 0.13 0.   0.57 0.   0.02 0.  ]\n",
            " [0.   0.   0.   0.   0.   0.04 0.   0.88 0.   0.08]\n",
            " [0.   0.   0.   0.02 0.02 0.04 0.02 0.02 0.89 0.  ]\n",
            " [0.   0.   0.   0.   0.   0.02 0.   0.   0.   0.98]]\n",
            "Diagonal values:\n",
            "[0.89 0.97 0.61 0.85 0.72 0.91 0.57 0.88 0.89 0.98]\n"
          ],
          "name": "stdout"
        }
      ]
    },
    {
      "metadata": {
        "id": "o-5Ot3UI05wM",
        "colab_type": "text"
      },
      "cell_type": "markdown",
      "source": [
        "** Thực hiện bài 2 với Tensorflow**"
      ]
    },
    {
      "metadata": {
        "id": "iGmLYGhr1AET",
        "colab_type": "text"
      },
      "cell_type": "markdown",
      "source": [
        "## Định nghĩa mô hình Softmax Regression bằng Tensorflow eager execution\n",
        "\n"
      ]
    },
    {
      "metadata": {
        "id": "BINeWJlQAxiF",
        "colab_type": "text"
      },
      "cell_type": "markdown",
      "source": [
        "Tại đây, các bạn cần định nghĩa mô hình SoftmaxRegressionTF. Để định nghĩa mô hình này, các bạn nên tham khảo ví dụ ở mô hình LogisticRegressionTF ở trên."
      ]
    },
    {
      "metadata": {
        "id": "0RU3mpbEyPZ6",
        "colab_type": "code",
        "colab": {
          "base_uri": "https://localhost:8080/",
          "height": 336
        },
        "outputId": "622d9846-c974-4c32-a42a-855a36d8718a"
      },
      "cell_type": "code",
      "source": [
        "class SoftmaxRegressionTF(tf.keras.Model):\n",
        "    def __init__(self, num_class):\n",
        "        super(SoftmaxRegressionTF, self).__init__()\n",
        "        # TODO 19: init all weights \n",
        "        ### START CODE HERE ###\n",
        "\n",
        "        ### END CODE HERE ###\n",
        "\n",
        "    def call(self, inputs, training=None, mask=None):\n",
        "        # TODO 20: implement your feedforward         \n",
        "        ### START CODE HERE ###\n",
        "\n",
        "        ### END CODE HERE ###\n",
        "        \n",
        "        # softmax op does not exist on the gpu\n",
        "        with tf.device('/cpu:0'):\n",
        "            output = tf.nn.softmax(output)        \n",
        "        return output\n",
        "\n",
        "### SANITY CHECK    \n",
        "logistic_regressor = SoftmaxRegressionTF(10)\n",
        "dummy_x = tf.zeros((1, 13))\n",
        "assert logistic_regressor(dummy_x).numpy().sum() == 1, \"Wrong\""
      ],
      "execution_count": 56,
      "outputs": [
        {
          "output_type": "error",
          "ename": "UnboundLocalError",
          "evalue": "ignored",
          "traceback": [
            "\u001b[0;31m---------------------------------------------------------------------------\u001b[0m",
            "\u001b[0;31mUnboundLocalError\u001b[0m                         Traceback (most recent call last)",
            "\u001b[0;32m<ipython-input-56-a25c123441cb>\u001b[0m in \u001b[0;36m<module>\u001b[0;34m()\u001b[0m\n\u001b[1;32m     21\u001b[0m \u001b[0mlogistic_regressor\u001b[0m \u001b[0;34m=\u001b[0m \u001b[0mSoftmaxRegressionTF\u001b[0m\u001b[0;34m(\u001b[0m\u001b[0;36m10\u001b[0m\u001b[0;34m)\u001b[0m\u001b[0;34m\u001b[0m\u001b[0;34m\u001b[0m\u001b[0m\n\u001b[1;32m     22\u001b[0m \u001b[0mdummy_x\u001b[0m \u001b[0;34m=\u001b[0m \u001b[0mtf\u001b[0m\u001b[0;34m.\u001b[0m\u001b[0mzeros\u001b[0m\u001b[0;34m(\u001b[0m\u001b[0;34m(\u001b[0m\u001b[0;36m1\u001b[0m\u001b[0;34m,\u001b[0m \u001b[0;36m13\u001b[0m\u001b[0;34m)\u001b[0m\u001b[0;34m)\u001b[0m\u001b[0;34m\u001b[0m\u001b[0;34m\u001b[0m\u001b[0m\n\u001b[0;32m---> 23\u001b[0;31m \u001b[0;32massert\u001b[0m \u001b[0mlogistic_regressor\u001b[0m\u001b[0;34m(\u001b[0m\u001b[0mdummy_x\u001b[0m\u001b[0;34m)\u001b[0m\u001b[0;34m.\u001b[0m\u001b[0mnumpy\u001b[0m\u001b[0;34m(\u001b[0m\u001b[0;34m)\u001b[0m\u001b[0;34m.\u001b[0m\u001b[0msum\u001b[0m\u001b[0;34m(\u001b[0m\u001b[0;34m)\u001b[0m \u001b[0;34m==\u001b[0m \u001b[0;36m1\u001b[0m\u001b[0;34m,\u001b[0m \u001b[0;34m\"Wrong\"\u001b[0m\u001b[0;34m\u001b[0m\u001b[0;34m\u001b[0m\u001b[0m\n\u001b[0m",
            "\u001b[0;32m/usr/local/lib/python3.6/dist-packages/tensorflow/python/keras/engine/base_layer.py\u001b[0m in \u001b[0;36m__call__\u001b[0;34m(self, inputs, *args, **kwargs)\u001b[0m\n\u001b[1;32m    590\u001b[0m       \u001b[0;32melse\u001b[0m\u001b[0;34m:\u001b[0m\u001b[0;34m\u001b[0m\u001b[0;34m\u001b[0m\u001b[0m\n\u001b[1;32m    591\u001b[0m         \u001b[0;31m# Eager execution on data tensors.\u001b[0m\u001b[0;34m\u001b[0m\u001b[0;34m\u001b[0m\u001b[0;34m\u001b[0m\u001b[0m\n\u001b[0;32m--> 592\u001b[0;31m         \u001b[0moutputs\u001b[0m \u001b[0;34m=\u001b[0m \u001b[0mself\u001b[0m\u001b[0;34m.\u001b[0m\u001b[0mcall\u001b[0m\u001b[0;34m(\u001b[0m\u001b[0minputs\u001b[0m\u001b[0;34m,\u001b[0m \u001b[0;34m*\u001b[0m\u001b[0margs\u001b[0m\u001b[0;34m,\u001b[0m \u001b[0;34m**\u001b[0m\u001b[0mkwargs\u001b[0m\u001b[0;34m)\u001b[0m\u001b[0;34m\u001b[0m\u001b[0;34m\u001b[0m\u001b[0m\n\u001b[0m\u001b[1;32m    593\u001b[0m         \u001b[0mself\u001b[0m\u001b[0;34m.\u001b[0m\u001b[0m_handle_activity_regularization\u001b[0m\u001b[0;34m(\u001b[0m\u001b[0minputs\u001b[0m\u001b[0;34m,\u001b[0m \u001b[0moutputs\u001b[0m\u001b[0;34m)\u001b[0m\u001b[0;34m\u001b[0m\u001b[0;34m\u001b[0m\u001b[0m\n\u001b[1;32m    594\u001b[0m         \u001b[0;32mreturn\u001b[0m \u001b[0moutputs\u001b[0m\u001b[0;34m\u001b[0m\u001b[0;34m\u001b[0m\u001b[0m\n",
            "\u001b[0;32m<ipython-input-56-a25c123441cb>\u001b[0m in \u001b[0;36mcall\u001b[0;34m(self, inputs, training, mask)\u001b[0m\n\u001b[1;32m     15\u001b[0m         \u001b[0;31m# softmax op does not exist on the gpu\u001b[0m\u001b[0;34m\u001b[0m\u001b[0;34m\u001b[0m\u001b[0;34m\u001b[0m\u001b[0m\n\u001b[1;32m     16\u001b[0m         \u001b[0;32mwith\u001b[0m \u001b[0mtf\u001b[0m\u001b[0;34m.\u001b[0m\u001b[0mdevice\u001b[0m\u001b[0;34m(\u001b[0m\u001b[0;34m'/cpu:0'\u001b[0m\u001b[0;34m)\u001b[0m\u001b[0;34m:\u001b[0m\u001b[0;34m\u001b[0m\u001b[0;34m\u001b[0m\u001b[0m\n\u001b[0;32m---> 17\u001b[0;31m             \u001b[0moutput\u001b[0m \u001b[0;34m=\u001b[0m \u001b[0mtf\u001b[0m\u001b[0;34m.\u001b[0m\u001b[0mnn\u001b[0m\u001b[0;34m.\u001b[0m\u001b[0msoftmax\u001b[0m\u001b[0;34m(\u001b[0m\u001b[0moutput\u001b[0m\u001b[0;34m)\u001b[0m\u001b[0;34m\u001b[0m\u001b[0;34m\u001b[0m\u001b[0m\n\u001b[0m\u001b[1;32m     18\u001b[0m         \u001b[0;32mreturn\u001b[0m \u001b[0moutput\u001b[0m\u001b[0;34m\u001b[0m\u001b[0;34m\u001b[0m\u001b[0m\n\u001b[1;32m     19\u001b[0m \u001b[0;34m\u001b[0m\u001b[0m\n",
            "\u001b[0;31mUnboundLocalError\u001b[0m: local variable 'output' referenced before assignment"
          ]
        }
      ]
    },
    {
      "metadata": {
        "id": "fx6PKo9OBN-v",
        "colab_type": "text"
      },
      "cell_type": "markdown",
      "source": [
        "#### TODO 19: cài đặt hàm __init__ \n",
        "Các bạn cần khởi tạo tất cả các trọng số ở hàm init của lớp SoftmaxRegressionTF."
      ]
    },
    {
      "metadata": {
        "id": "j4GbtrTdBV7Z",
        "colab_type": "text"
      },
      "cell_type": "markdown",
      "source": [
        "#### TODO 20: cài đặt hàm call\n",
        "Cài đặt feedforward trong hàm call ở lớp SoftmaxRegressionTF."
      ]
    },
    {
      "metadata": {
        "id": "N7dHYqGc6aax",
        "colab_type": "text"
      },
      "cell_type": "markdown",
      "source": [
        "## Huấn luyện với tensorflow"
      ]
    },
    {
      "metadata": {
        "id": "mEqbmm1M6Zu8",
        "colab_type": "code",
        "colab": {}
      },
      "cell_type": "code",
      "source": [
        "#@title Training { display-mode: \"both\" }\n",
        "num_epoch = 10 #@param {type:\"integer\"}\n",
        "learning_rate = 0.001 #@param {type:\"number\"}\n",
        "num_classes = 10\n",
        "\n",
        "tf.set_random_seed(2018)\n",
        "\n",
        "# Load data from file\n",
        "# Make sure that fashion-mnist/*.gz files is in data/\n",
        "train_x, train_y, val_x, val_y, test_x, test_y = get_mnist_data()\n",
        "num_train = train_x.shape[0]\n",
        "num_val = val_x.shape[0]\n",
        "num_test = test_x.shape[0]  \n",
        "\n",
        "\n",
        "# Convert label lists to one-hot (one-of-k) encoding\n",
        "train_y = create_one_hot(train_y)\n",
        "val_y = create_one_hot(val_y)\n",
        "test_y = create_one_hot(test_y)\n",
        "\n",
        "# Normalize our data\n",
        "train_x, val_x, test_x = normalize(train_x, val_x, test_x)\n",
        "\n",
        "device = '/cpu:0' if tfe.num_gpus() == 0 else '/gpu:0'\n",
        "\n",
        "with tf.device(device):\n",
        "    # build model and optimizer\n",
        "    model = SoftmaxRegressionTF(num_classes)\n",
        "    model.compile(optimizer=tf.train.AdamOptimizer(learning_rate), loss='binary_crossentropy',\n",
        "                  metrics=['accuracy'])\n",
        "    \n",
        "\n",
        "    # train\n",
        "    model.fit(train_x, train_y, batch_size=batch_size, epochs=num_epoch,\n",
        "              validation_data=(val_x, val_y), verbose=2)\n",
        "\n",
        "    # evaluate on test set\n",
        "    scores = model.evaluate(test_x, test_y, 32, verbose=2)\n",
        "    \n",
        "    y_hat = model.predict(test_x)\n",
        "\n",
        "\n",
        "    confusion_mat = softmax_test(y_hat, test_y)\n",
        "    print('Confusion matrix:')\n",
        "    print(confusion_mat)\n",
        "    print('Diagonal values:')\n",
        "    print(confusion_mat.flatten()[0::11])"
      ],
      "execution_count": 0,
      "outputs": []
    }
  ]
}